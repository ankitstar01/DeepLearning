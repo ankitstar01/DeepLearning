{
  "nbformat": 4,
  "nbformat_minor": 0,
  "metadata": {
    "colab": {
      "name": "audio_cut.ipynb",
      "provenance": [],
      "include_colab_link": true
    },
    "kernelspec": {
      "name": "python3",
      "display_name": "Python 3"
    },
    "accelerator": "GPU"
  },
  "cells": [
    {
      "cell_type": "markdown",
      "metadata": {
        "id": "view-in-github",
        "colab_type": "text"
      },
      "source": [
        "<a href=\"https://colab.research.google.com/github/ankitstar01/DeepLearning/blob/master/StockPrice.ipynb\" target=\"_parent\"><img src=\"https://colab.research.google.com/assets/colab-badge.svg\" alt=\"Open In Colab\"/></a>"
      ]
    },
    {
      "cell_type": "code",
      "metadata": {
        "id": "isRqZjPyvKVA"
      },
      "source": [
        "import numpy as np\r\n",
        "import matplotlib.pyplot as plt\r\n",
        "import pandas as pd\r\n",
        "from pandas import datetime\r\n",
        "import math, time\r\n",
        "import itertools\r\n",
        "from sklearn import preprocessing\r\n",
        "import datetime\r\n",
        "from operator import itemgetter\r\n",
        "from sklearn.metrics import mean_squared_error\r\n",
        "from math import sqrt\r\n",
        "from keras.models import Sequential\r\n",
        "from keras.layers.core import Dense, Dropout, Activation\r\n",
        "from keras.layers.recurrent import LSTM"
      ],
      "execution_count": 1,
      "outputs": []
    },
    {
      "cell_type": "code",
      "metadata": {
        "id": "bULVEVwV5Lpq"
      },
      "source": [
        "def get_stock_data(stock_name, normalized=0):\r\n",
        "    url=\"http://www.google.com/finance/historical?q=\"+stock_name+\"&startdate=Jul+12%2C+2013&enddate=Jul+11%2C+2017&num=30&ei=rCtlWZGSFN3KsQHwrqWQCw&output=csv\"\r\n",
        "\r\n",
        "\r\n",
        "    col_names = ['timestamp','Open','Low','High','Volume','Close']\r\n",
        "    stocks = pd.read_csv(\"dayGME.csv\", header=0, names=col_names) \r\n",
        "    df = pd.DataFrame(stocks)\r\n",
        "    df.drop(df.columns[[0,2,4]], axis=1, inplace=True) \r\n",
        "    return df"
      ],
      "execution_count": 11,
      "outputs": []
    },
    {
      "cell_type": "code",
      "metadata": {
        "id": "4i27hhn16cHR",
        "colab": {
          "base_uri": "https://localhost:8080/",
          "height": 197
        },
        "outputId": "ac81450f-9138-47d9-b6b5-b193954db62e"
      },
      "source": [
        "stock_name = 'GME'\r\n",
        "df = get_stock_data(stock_name,0)\r\n",
        "df.head()"
      ],
      "execution_count": 12,
      "outputs": [
        {
          "output_type": "execute_result",
          "data": {
            "text/html": [
              "<div>\n",
              "<style scoped>\n",
              "    .dataframe tbody tr th:only-of-type {\n",
              "        vertical-align: middle;\n",
              "    }\n",
              "\n",
              "    .dataframe tbody tr th {\n",
              "        vertical-align: top;\n",
              "    }\n",
              "\n",
              "    .dataframe thead th {\n",
              "        text-align: right;\n",
              "    }\n",
              "</style>\n",
              "<table border=\"1\" class=\"dataframe\">\n",
              "  <thead>\n",
              "    <tr style=\"text-align: right;\">\n",
              "      <th></th>\n",
              "      <th>Open</th>\n",
              "      <th>High</th>\n",
              "      <th>Close</th>\n",
              "    </tr>\n",
              "  </thead>\n",
              "  <tbody>\n",
              "    <tr>\n",
              "      <th>0</th>\n",
              "      <td>19.94</td>\n",
              "      <td>20.30</td>\n",
              "      <td>20.23</td>\n",
              "    </tr>\n",
              "    <tr>\n",
              "      <th>1</th>\n",
              "      <td>20.27</td>\n",
              "      <td>20.57</td>\n",
              "      <td>20.51</td>\n",
              "    </tr>\n",
              "    <tr>\n",
              "      <th>2</th>\n",
              "      <td>20.36</td>\n",
              "      <td>20.42</td>\n",
              "      <td>20.10</td>\n",
              "    </tr>\n",
              "    <tr>\n",
              "      <th>3</th>\n",
              "      <td>20.17</td>\n",
              "      <td>20.31</td>\n",
              "      <td>20.15</td>\n",
              "    </tr>\n",
              "    <tr>\n",
              "      <th>4</th>\n",
              "      <td>20.14</td>\n",
              "      <td>20.14</td>\n",
              "      <td>19.69</td>\n",
              "    </tr>\n",
              "  </tbody>\n",
              "</table>\n",
              "</div>"
            ],
            "text/plain": [
              "    Open   High  Close\n",
              "0  19.94  20.30  20.23\n",
              "1  20.27  20.57  20.51\n",
              "2  20.36  20.42  20.10\n",
              "3  20.17  20.31  20.15\n",
              "4  20.14  20.14  19.69"
            ]
          },
          "metadata": {
            "tags": []
          },
          "execution_count": 12
        }
      ]
    },
    {
      "cell_type": "code",
      "metadata": {
        "id": "WQ1Pv2kh6e74"
      },
      "source": [
        "today = datetime.date.today()\r\n",
        "file_name = stock_name+'_stock_%s.csv' % today\r\n",
        "df.to_csv(file_name)"
      ],
      "execution_count": 13,
      "outputs": []
    },
    {
      "cell_type": "code",
      "metadata": {
        "id": "PectYZ-t8MRO"
      },
      "source": [
        "\r\n",
        "df['High'] = df['High'] / 1000\r\n",
        "df['Open'] = df['Open'] / 1000\r\n",
        "df['Close'] = df['Close'] / 1000\r\n",
        "df.head(5)\r\n",
        "def norm(df):\r\n",
        "  df['High'] = df['High'] / 1000\r\n",
        "  df['Open'] = df['Open'] / 1000\r\n",
        "  df['Close'] = df['Close'] / 1000\r\n",
        "\r\n",
        "def prepare_df(ticker):\r\n",
        "  df=get_stock_data(ticker,0)\r\n",
        "  norm(df)\r\n",
        "  return df"
      ],
      "execution_count": 14,
      "outputs": []
    },
    {
      "cell_type": "code",
      "metadata": {
        "id": "K3npC1p88SDZ"
      },
      "source": [
        "def load_data(stock, seq_len):\r\n",
        "    amount_of_features = len(stock.columns)\r\n",
        "    data = stock.to_numpy() #pd.DataFrame(stock)\r\n",
        "    sequence_length = seq_len + 1\r\n",
        "    result = []\r\n",
        "    for index in range(len(data) - sequence_length):\r\n",
        "        result.append(data[index: index + sequence_length])\r\n",
        "\r\n",
        "    result = np.array(result)\r\n",
        "    row = round(0.9 * result.shape[0])\r\n",
        "    train = result[:int(row), :]\r\n",
        "    x_train = train[:, :-1]\r\n",
        "    y_train = train[:, -1][:,-1]\r\n",
        "    x_test = result[int(row):, :-1]\r\n",
        "    y_test = result[int(row):, -1][:,-1]\r\n",
        "\r\n",
        "    x_train = np.reshape(x_train, (x_train.shape[0], x_train.shape[1], amount_of_features))\r\n",
        "    x_test = np.reshape(x_test, (x_test.shape[0], x_test.shape[1], amount_of_features))  \r\n",
        "\r\n",
        "    return [x_train, y_train, x_test, y_test]"
      ],
      "execution_count": 15,
      "outputs": []
    },
    {
      "cell_type": "code",
      "metadata": {
        "id": "EWff_Gdd8VnX"
      },
      "source": [
        "def build_model(layers):\r\n",
        "    model = Sequential()\r\n",
        "\r\n",
        "    model.add(LSTM(\r\n",
        "        input_dim=layers[0],\r\n",
        "        output_dim=layers[1],\r\n",
        "        return_sequences=True))\r\n",
        "    model.add(Dropout(0.2))\r\n",
        "\r\n",
        "    model.add(LSTM(\r\n",
        "        layers[2],\r\n",
        "        return_sequences=False))\r\n",
        "    model.add(Dropout(0.2))\r\n",
        "\r\n",
        "    model.add(Dense(\r\n",
        "        output_dim=layers[2]))\r\n",
        "    model.add(Activation(\"linear\"))\r\n",
        "\r\n",
        "    start = time.time()\r\n",
        "    model.compile(loss=\"mse\", optimizer=\"rmsprop\",metrics=['accuracy'])\r\n",
        "    print(\"Compilation Time : \", time.time() - start)\r\n",
        "    return model\r\n",
        "\r\n",
        "def build_model2(layers):\r\n",
        "        d = 0.2\r\n",
        "        model = Sequential()\r\n",
        "        model.add(LSTM(128, input_shape=(layers[1], layers[0]), return_sequences=True))\r\n",
        "        model.add(Dropout(d))\r\n",
        "        model.add(LSTM(64, input_shape=(layers[1], layers[0]), return_sequences=False))\r\n",
        "        model.add(Dropout(d))\r\n",
        "        model.add(Dense(16,kernel_initializer='uniform',activation='relu'))        \r\n",
        "        model.add(Dense(1,kernel_initializer='uniform',activation='relu'))\r\n",
        "        model.compile(loss='mse',optimizer='adam',metrics=['accuracy'])\r\n",
        "        return model"
      ],
      "execution_count": 16,
      "outputs": []
    },
    {
      "cell_type": "code",
      "metadata": {
        "id": "McBrX3WL8dPr",
        "colab": {
          "base_uri": "https://localhost:8080/"
        },
        "outputId": "6433cd05-074a-4649-b3d5-6302c4e66332"
      },
      "source": [
        "window = 5\r\n",
        "X_train, y_train, X_test, y_test = load_data(df[::-1], window)\r\n",
        "print(\"X_train\", X_train.shape)\r\n",
        "print(\"y_train\", y_train.shape)\r\n",
        "print(\"X_test\", X_test.shape)\r\n",
        "print(\"y_test\", y_test.shape)"
      ],
      "execution_count": 17,
      "outputs": [
        {
          "output_type": "stream",
          "text": [
            "X_train (2494, 5, 3)\n",
            "y_train (2494,)\n",
            "X_test (277, 5, 3)\n",
            "y_test (277,)\n"
          ],
          "name": "stdout"
        }
      ]
    },
    {
      "cell_type": "code",
      "metadata": {
        "id": "aq99eEx18guB"
      },
      "source": [
        "\r\n",
        "# model = build_model([3,lag,1])\r\n",
        "model = build_model2([3,window,1])"
      ],
      "execution_count": 18,
      "outputs": []
    },
    {
      "cell_type": "code",
      "metadata": {
        "id": "x2DjZ9E682IV",
        "colab": {
          "base_uri": "https://localhost:8080/"
        },
        "outputId": "0301ae82-37d7-44a3-ef00-dbceae0a8efd"
      },
      "source": [
        "model.fit(\r\n",
        "    X_train,\r\n",
        "    y_train,\r\n",
        "    batch_size=512,\r\n",
        "    epochs=500,\r\n",
        "    validation_split=0.1,\r\n",
        "    verbose=0)"
      ],
      "execution_count": 19,
      "outputs": [
        {
          "output_type": "execute_result",
          "data": {
            "text/plain": [
              "<tensorflow.python.keras.callbacks.History at 0x7fe54020fb38>"
            ]
          },
          "metadata": {
            "tags": []
          },
          "execution_count": 19
        }
      ]
    },
    {
      "cell_type": "code",
      "metadata": {
        "id": "hxnTXDGn9v-l",
        "colab": {
          "base_uri": "https://localhost:8080/"
        },
        "outputId": "3eaa4a80-be93-42e6-dd75-fb9d7ac9718c"
      },
      "source": [
        "trainScore = model.evaluate(X_train, y_train, verbose=0)\r\n",
        "print('Train Score: %.2f MSE (%.2f RMSE)' % (trainScore[0], math.sqrt(trainScore[0])))\r\n",
        "\r\n",
        "testScore = model.evaluate(X_test, y_test, verbose=0)\r\n",
        "print('Test Score: %.2f MSE (%.2f RMSE)' % (testScore[0], math.sqrt(testScore[0])))\r\n"
      ],
      "execution_count": 20,
      "outputs": [
        {
          "output_type": "stream",
          "text": [
            "Train Score: 0.00 MSE (0.00 RMSE)\n",
            "Test Score: 0.00 MSE (0.00 RMSE)\n"
          ],
          "name": "stdout"
        }
      ]
    },
    {
      "cell_type": "code",
      "metadata": {
        "id": "AjEC7XPe_Bxc"
      },
      "source": [
        "diff=[]\r\n",
        "ratio=[]\r\n",
        "p = model.predict(X_test)\r\n",
        "for u in range(len(y_test)):\r\n",
        "    pr = p[u][0]\r\n",
        "    ratio.append((y_test[u]/pr)-1)\r\n",
        "    diff.append(abs(y_test[u]- pr))"
      ],
      "execution_count": 21,
      "outputs": []
    },
    {
      "cell_type": "code",
      "metadata": {
        "id": "m1s70NMZ_FcL",
        "colab": {
          "base_uri": "https://localhost:8080/",
          "height": 264
        },
        "outputId": "572acdd2-b094-48eb-893d-b7a10aaf1394"
      },
      "source": [
        "def plot(X_test,y_test):\r\n",
        "  diff=[]\r\n",
        "  ratio=[]\r\n",
        "  p = model.predict(X_test)\r\n",
        "  for u in range(len(y_test)):\r\n",
        "      pr = p[u][0]\r\n",
        "      ratio.append((y_test[u]/pr)-1)\r\n",
        "      diff.append(abs(y_test[u]- pr))\r\n",
        "  plt2.plot(p*1000,color='red', label='prediction')\r\n",
        "  plt2.plot(y_test*1000,color='blue', label='y_test')\r\n",
        "  plt2.legend(loc='upper left')\r\n",
        "  plt2.show()\r\n",
        "\r\n",
        "import matplotlib.pyplot as plt2\r\n",
        "\r\n",
        "plt2.plot(p*1000,color='red', label='prediction')\r\n",
        "plt2.plot(y_test*1000,color='blue', label='y_test')\r\n",
        "plt2.legend(loc='upper left')\r\n",
        "plt2.show()\r\n",
        "\r\n",
        "\r\n"
      ],
      "execution_count": 24,
      "outputs": [
        {
          "output_type": "display_data",
          "data": {
            "image/png": "[encoded data removed]",
            "text/plain": [
              "<Figure size 432x288 with 1 Axes>"
            ]
          },
          "metadata": {
            "tags": [],
            "needs_background": "light"
          }
        }
      ]
    },
    {
      "cell_type": "code",
      "metadata": {
        "id": "52DUfGGl_H71",
        "colab": {
          "base_uri": "https://localhost:8080/"
        },
        "outputId": "885a7e59-8231-4e30-abfb-6ff8e372b7df"
      },
      "source": [
        "\r\n",
        "import tweepy\r\n",
        "from textblob import TextBlob\r\n",
        "\r\n",
        "def get_polarity(sentence):\r\n",
        "  analysis=TextBlob(sentence)\r\n",
        "  print(analysis.polarity)\r\n",
        "# # Step 1 - Authenticate\r\n",
        "# consumer_key= 'CONSUMER_KEY_HERE'\r\n",
        "# consumer_secret= 'CONSUMER_SECRET_HERE'\r\n",
        "\r\n",
        "# access_token='ACCESS_TOKEN_HERE'\r\n",
        "# access_token_secret='ACCESS_TOKEN_SECRET_HERE'\r\n",
        "\r\n",
        "# auth = tweepy.OAuthHandler(consumer_key, consumer_secret)\r\n",
        "# auth.set_access_token(access_token, access_token_secret)\r\n",
        "\r\n",
        "# api = tweepy.API(auth)\r\n",
        "\r\n",
        "# #Step 3 - Retrieve Tweets\r\n",
        "# public_tweets = api.search('Trump')\r\n",
        "\r\n",
        "\r\n",
        "\r\n",
        "#CHALLENGE - Instead of printing out each tweet, save each Tweet to a CSV file\r\n",
        "#and label each one as either 'positive' or 'negative', depending on the sentiment \r\n",
        "#You can decide the sentiment polarity threshold yourself\r\n",
        "\r\n",
        "public_tweets=[\"this is very bad move by google\",\"reliace gets huge investment from google\",\"new crona strain may effect the market\"]\r\n",
        "for tweet in public_tweets:\r\n",
        "    print(tweet)\r\n",
        "    \r\n",
        "    #Step 4 Perform Sentiment Analysis on Tweets\r\n",
        "    analysis = TextBlob(tweet)\r\n",
        "    print(analysis.sentiment)\r\n",
        "    print(analysis.polarity)\r\n",
        "    print(\"\")"
      ],
      "execution_count": null,
      "outputs": [
        {
          "output_type": "stream",
          "text": [
            "this is very bad move by google\n",
            "Sentiment(polarity=-0.9099999999999998, subjectivity=0.8666666666666667)\n",
            "-0.9099999999999998\n",
            "\n",
            "reliace gets huge investment from google\n",
            "Sentiment(polarity=0.4000000000000001, subjectivity=0.9)\n",
            "0.4000000000000001\n",
            "\n",
            "new crona strain may effect the market\n",
            "Sentiment(polarity=0.13636363636363635, subjectivity=0.45454545454545453)\n",
            "0.13636363636363635\n",
            "\n"
          ],
          "name": "stdout"
        }
      ]
    },
    {
      "cell_type": "code",
      "metadata": {
        "colab": {
          "base_uri": "https://localhost:8080/"
        },
        "id": "HATperKHCRKn",
        "outputId": "e10bcaed-061e-438f-8393-b03c579c8c17"
      },
      "source": [
        "get_polarity(\"market welcomes new budget.\")"
      ],
      "execution_count": null,
      "outputs": [
        {
          "output_type": "stream",
          "text": [
            "0.13636363636363635\n"
          ],
          "name": "stdout"
        }
      ]
    },
    {
      "cell_type": "code",
      "metadata": {
        "colab": {
          "base_uri": "https://localhost:8080/",
          "height": 350
        },
        "id": "EzXuzUUWaHI6",
        "outputId": "d0c53418-b4c1-4678-9da8-86d01c551dc9"
      },
      "source": [
        "def Prepare_model(ticker):\r\n",
        "  df=prepare_df(ticker)\r\n",
        "  print(\"data is collected\")\r\n",
        "  window = 5\r\n",
        "  X_train, y_train, X_test, y_test = load_data(df[::-1], window)\r\n",
        "  model = build_model2([3,window,1])\r\n",
        "  print(\"model training started\")\r\n",
        "  model.fit(\r\n",
        "    X_train,\r\n",
        "    y_train,\r\n",
        "    batch_size=512,\r\n",
        "    epochs=500,\r\n",
        "    validation_split=0.1,\r\n",
        "    verbose=0)\r\n",
        "  print(\"model is trained\")\r\n",
        "  trainScore = model.evaluate(X_train, y_train, verbose=0)\r\n",
        "  print('Train Score: %.2f MSE (%.2f RMSE)' % (trainScore[0], math.sqrt(trainScore[0])))\r\n",
        "\r\n",
        "  testScore = model.evaluate(X_test, y_test, verbose=0)\r\n",
        "  print('Test Score: %.2f MSE (%.2f RMSE)' % (testScore[0], math.sqrt(testScore[0])))\r\n",
        "  plot(X_test,y_test)\r\n",
        "Prepare_model(\"GOOGL\")"
      ],
      "execution_count": null,
      "outputs": [
        {
          "output_type": "stream",
          "text": [
            "data is collected\n",
            "model training started\n",
            "model is trained\n",
            "Train Score: 0.00 MSE (0.03 RMSE)\n",
            "Test Score: 0.00 MSE (0.04 RMSE)\n"
          ],
          "name": "stdout"
        },
        {
          "output_type": "display_data",
          "data": {
            "image/png": "[encoded data removed]",
            "text/plain": [
              "<Figure size 432x288 with 1 Axes>"
            ]
          },
          "metadata": {
            "tags": [],
            "needs_background": "light"
          }
        }
      ]
    },
    {
      "cell_type": "markdown",
      "metadata": {
        "id": "KGuz7C_tkSKv"
      },
      "source": [
        "Standard data set for checking sentiments of stocks market   https://github.com/krishnaik06/Stock-Sentiment-Analysis"
      ]
    },
    {
      "cell_type": "code",
      "metadata": {
        "colab": {
          "base_uri": "https://localhost:8080/",
          "height": 527
        },
        "id": "vDV_BvrlkdiW",
        "outputId": "6a7e6017-4420-425f-c919-96548574dabc"
      },
      "source": [
        "! pip install polygon-api-client\r\n",
        "from polygon import RESTClient, WebSocketClient, STOCKS_CLUSTER\r\n",
        "\r\n",
        "API_KEY = 'vqeohd8x5k1x6PKiisJQS8RgS3A1iRQC'\r\n",
        "!mkdir ticker_folder\r\n",
        "\r\n",
        "def load_previous_data(ticker, api_key, multiplier, timespan):  # timespan must be day, hour, minute, week, month, quarter or year\r\n",
        "    f = open('ticker_folder/' + ticker + '.csv', 'w')  # multiplier would mulitply timespan. If you want every 5 minutes multiplier will have to be 5\r\n",
        "    with RESTClient(api_key) as client:\r\n",
        "        resp = client.stocks_equities_aggregates(ticker=ticker, multiplier=multiplier, timespan=timespan,\r\n",
        "                                                 from_='2021-02-02', to='2021-02-03', sort='asc',\r\n",
        "                                                 limit=50000)\r\n",
        "        resp = resp.results\r\n",
        "        f.write('o,l,h,v,c\\n')\r\n",
        "        for query in resp:\r\n",
        "            f.write(str(query['o']) + ',' + str(query['l']) + ','\r\n",
        "                    + str(query['h']) + ',' + str(query['v']) + ',' + str(query['c']) + '\\n')\r\n",
        "        f.close()\r\n",
        "load_previous_data('GOOGL',API_KEY,1,'minutes')\r\n",
        "pd.read_csv('ticker_folder/GOOGL.csv')"
      ],
      "execution_count": null,
      "outputs": [
        {
          "output_type": "stream",
          "text": [
            "Requirement already satisfied: polygon-api-client in /usr/local/lib/python3.6/dist-packages (0.1.9)\n",
            "Requirement already satisfied: requests>=2.22.0 in /usr/local/lib/python3.6/dist-packages (from polygon-api-client) (2.23.0)\n",
            "Requirement already satisfied: websockets>=8.0.2 in /usr/local/lib/python3.6/dist-packages (from polygon-api-client) (8.1)\n",
            "Requirement already satisfied: websocket-client>=0.56.0 in /usr/local/lib/python3.6/dist-packages (from polygon-api-client) (0.57.0)\n",
            "Requirement already satisfied: certifi>=2017.4.17 in /usr/local/lib/python3.6/dist-packages (from requests>=2.22.0->polygon-api-client) (2020.12.5)\n",
            "Requirement already satisfied: idna<3,>=2.5 in /usr/local/lib/python3.6/dist-packages (from requests>=2.22.0->polygon-api-client) (2.10)\n",
            "Requirement already satisfied: chardet<4,>=3.0.2 in /usr/local/lib/python3.6/dist-packages (from requests>=2.22.0->polygon-api-client) (3.0.4)\n",
            "Requirement already satisfied: urllib3!=1.25.0,!=1.25.1,<1.26,>=1.21.1 in /usr/local/lib/python3.6/dist-packages (from requests>=2.22.0->polygon-api-client) (1.24.3)\n",
            "Requirement already satisfied: six in /usr/local/lib/python3.6/dist-packages (from websocket-client>=0.56.0->polygon-api-client) (1.15.0)\n",
            "mkdir: cannot create directory ‘ticker_folder’: File exists\n"
          ],
          "name": "stdout"
        },
        {
          "output_type": "error",
          "ename": "HTTPError",
          "evalue": "ignored",
          "traceback": [
            "\u001b[0;31m---------------------------------------------------------------------------\u001b[0m",
            "\u001b[0;31mHTTPError\u001b[0m                                 Traceback (most recent call last)",
            "\u001b[0;32m<ipython-input-7-f93aa7ff86fe>\u001b[0m in \u001b[0;36m<module>\u001b[0;34m()\u001b[0m\n\u001b[1;32m     17\u001b[0m                     + str(query['h']) + ',' + str(query['v']) + ',' + str(query['c']) + '\\n')\n\u001b[1;32m     18\u001b[0m         \u001b[0mf\u001b[0m\u001b[0;34m.\u001b[0m\u001b[0mclose\u001b[0m\u001b[0;34m(\u001b[0m\u001b[0;34m)\u001b[0m\u001b[0;34m\u001b[0m\u001b[0;34m\u001b[0m\u001b[0m\n\u001b[0;32m---> 19\u001b[0;31m \u001b[0mload_previous_data\u001b[0m\u001b[0;34m(\u001b[0m\u001b[0;34m'GOOGL'\u001b[0m\u001b[0;34m,\u001b[0m\u001b[0mAPI_KEY\u001b[0m\u001b[0;34m,\u001b[0m\u001b[0;36m1\u001b[0m\u001b[0;34m,\u001b[0m\u001b[0;34m'minutes'\u001b[0m\u001b[0;34m)\u001b[0m\u001b[0;34m\u001b[0m\u001b[0;34m\u001b[0m\u001b[0m\n\u001b[0m\u001b[1;32m     20\u001b[0m \u001b[0mpd\u001b[0m\u001b[0;34m.\u001b[0m\u001b[0mread_csv\u001b[0m\u001b[0;34m(\u001b[0m\u001b[0;34m'ticker_folder/GOOGL.csv'\u001b[0m\u001b[0;34m)\u001b[0m\u001b[0;34m\u001b[0m\u001b[0;34m\u001b[0m\u001b[0m\n",
            "\u001b[0;32m<ipython-input-7-f93aa7ff86fe>\u001b[0m in \u001b[0;36mload_previous_data\u001b[0;34m(ticker, api_key, multiplier, timespan)\u001b[0m\n\u001b[1;32m     10\u001b[0m         resp = client.stocks_equities_aggregates(ticker=ticker, multiplier=multiplier, timespan=timespan,\n\u001b[1;32m     11\u001b[0m                                                  \u001b[0mfrom_\u001b[0m\u001b[0;34m=\u001b[0m\u001b[0;34m'2021-02-02'\u001b[0m\u001b[0;34m,\u001b[0m \u001b[0mto\u001b[0m\u001b[0;34m=\u001b[0m\u001b[0;34m'2021-02-03'\u001b[0m\u001b[0;34m,\u001b[0m \u001b[0msort\u001b[0m\u001b[0;34m=\u001b[0m\u001b[0;34m'asc'\u001b[0m\u001b[0;34m,\u001b[0m\u001b[0;34m\u001b[0m\u001b[0;34m\u001b[0m\u001b[0m\n\u001b[0;32m---> 12\u001b[0;31m                                                  limit=50000)\n\u001b[0m\u001b[1;32m     13\u001b[0m         \u001b[0mresp\u001b[0m \u001b[0;34m=\u001b[0m \u001b[0mresp\u001b[0m\u001b[0;34m.\u001b[0m\u001b[0mresults\u001b[0m\u001b[0;34m\u001b[0m\u001b[0;34m\u001b[0m\u001b[0m\n\u001b[1;32m     14\u001b[0m         \u001b[0mf\u001b[0m\u001b[0;34m.\u001b[0m\u001b[0mwrite\u001b[0m\u001b[0;34m(\u001b[0m\u001b[0;34m'o,l,h,v,c\\n'\u001b[0m\u001b[0;34m)\u001b[0m\u001b[0;34m\u001b[0m\u001b[0;34m\u001b[0m\u001b[0m\n",
            "\u001b[0;32m/usr/local/lib/python3.6/dist-packages/polygon/rest/client.py\u001b[0m in \u001b[0;36mstocks_equities_aggregates\u001b[0;34m(self, ticker, multiplier, timespan, from_, to, **query_params)\u001b[0m\n\u001b[1;32m    143\u001b[0m                                    **query_params) -> models.StocksEquitiesAggregatesApiResponse:\n\u001b[1;32m    144\u001b[0m         \u001b[0mendpoint\u001b[0m \u001b[0;34m=\u001b[0m \u001b[0;34mf\"{self.url}/v2/aggs/ticker/{ticker}/range/{multiplier}/{timespan}/{from_}/{to}\"\u001b[0m\u001b[0;34m\u001b[0m\u001b[0;34m\u001b[0m\u001b[0m\n\u001b[0;32m--> 145\u001b[0;31m         \u001b[0;32mreturn\u001b[0m \u001b[0mself\u001b[0m\u001b[0;34m.\u001b[0m\u001b[0m_handle_response\u001b[0m\u001b[0;34m(\u001b[0m\u001b[0;34m\"StocksEquitiesAggregatesApiResponse\"\u001b[0m\u001b[0;34m,\u001b[0m \u001b[0mendpoint\u001b[0m\u001b[0;34m,\u001b[0m \u001b[0mquery_params\u001b[0m\u001b[0;34m)\u001b[0m\u001b[0;34m\u001b[0m\u001b[0;34m\u001b[0m\u001b[0m\n\u001b[0m\u001b[1;32m    146\u001b[0m \u001b[0;34m\u001b[0m\u001b[0m\n\u001b[1;32m    147\u001b[0m     def stocks_equities_grouped_daily(self, locale, market, date,\n",
            "\u001b[0;32m/usr/local/lib/python3.6/dist-packages/polygon/rest/client.py\u001b[0m in \u001b[0;36m_handle_response\u001b[0;34m(self, response_type, endpoint, params)\u001b[0m\n\u001b[1;32m     33\u001b[0m             \u001b[0;32mreturn\u001b[0m \u001b[0munmarshal\u001b[0m\u001b[0;34m.\u001b[0m\u001b[0munmarshal_json\u001b[0m\u001b[0;34m(\u001b[0m\u001b[0mresponse_type\u001b[0m\u001b[0;34m,\u001b[0m \u001b[0mresp\u001b[0m\u001b[0;34m.\u001b[0m\u001b[0mjson\u001b[0m\u001b[0;34m(\u001b[0m\u001b[0;34m)\u001b[0m\u001b[0;34m)\u001b[0m\u001b[0;34m\u001b[0m\u001b[0;34m\u001b[0m\u001b[0m\n\u001b[1;32m     34\u001b[0m         \u001b[0;32melse\u001b[0m\u001b[0;34m:\u001b[0m\u001b[0;34m\u001b[0m\u001b[0;34m\u001b[0m\u001b[0m\n\u001b[0;32m---> 35\u001b[0;31m             \u001b[0mresp\u001b[0m\u001b[0;34m.\u001b[0m\u001b[0mraise_for_status\u001b[0m\u001b[0;34m(\u001b[0m\u001b[0;34m)\u001b[0m\u001b[0;34m\u001b[0m\u001b[0;34m\u001b[0m\u001b[0m\n\u001b[0m\u001b[1;32m     36\u001b[0m \u001b[0;34m\u001b[0m\u001b[0m\n\u001b[1;32m     37\u001b[0m     \u001b[0;32mdef\u001b[0m \u001b[0mreference_tickers\u001b[0m\u001b[0;34m(\u001b[0m\u001b[0mself\u001b[0m\u001b[0;34m,\u001b[0m \u001b[0;34m**\u001b[0m\u001b[0mquery_params\u001b[0m\u001b[0;34m)\u001b[0m \u001b[0;34m->\u001b[0m \u001b[0mmodels\u001b[0m\u001b[0;34m.\u001b[0m\u001b[0mReferenceTickersApiResponse\u001b[0m\u001b[0;34m:\u001b[0m\u001b[0;34m\u001b[0m\u001b[0;34m\u001b[0m\u001b[0m\n",
            "\u001b[0;32m/usr/local/lib/python3.6/dist-packages/requests/models.py\u001b[0m in \u001b[0;36mraise_for_status\u001b[0;34m(self)\u001b[0m\n\u001b[1;32m    939\u001b[0m \u001b[0;34m\u001b[0m\u001b[0m\n\u001b[1;32m    940\u001b[0m         \u001b[0;32mif\u001b[0m \u001b[0mhttp_error_msg\u001b[0m\u001b[0;34m:\u001b[0m\u001b[0;34m\u001b[0m\u001b[0;34m\u001b[0m\u001b[0m\n\u001b[0;32m--> 941\u001b[0;31m             \u001b[0;32mraise\u001b[0m \u001b[0mHTTPError\u001b[0m\u001b[0;34m(\u001b[0m\u001b[0mhttp_error_msg\u001b[0m\u001b[0;34m,\u001b[0m \u001b[0mresponse\u001b[0m\u001b[0;34m=\u001b[0m\u001b[0mself\u001b[0m\u001b[0;34m)\u001b[0m\u001b[0;34m\u001b[0m\u001b[0;34m\u001b[0m\u001b[0m\n\u001b[0m\u001b[1;32m    942\u001b[0m \u001b[0;34m\u001b[0m\u001b[0m\n\u001b[1;32m    943\u001b[0m     \u001b[0;32mdef\u001b[0m \u001b[0mclose\u001b[0m\u001b[0;34m(\u001b[0m\u001b[0mself\u001b[0m\u001b[0;34m)\u001b[0m\u001b[0;34m:\u001b[0m\u001b[0;34m\u001b[0m\u001b[0;34m\u001b[0m\u001b[0m\n",
            "\u001b[0;31mHTTPError\u001b[0m: 400 Client Error: Bad Request for url: https://api.polygon.io/v2/aggs/ticker/GOOGL/range/1/minutes/2021-02-02/2021-02-03?apiKey=vqeohd8x5k1x6PKiisJQS8RgS3A1iRQC&sort=asc&limit=50000"
          ]
        }
      ]
    },
    {
      "cell_type": "code",
      "metadata": {
        "id": "f_KWmSK6kbx8"
      },
      "source": [
        ""
      ],
      "execution_count": null,
      "outputs": []
    }
  ]
}