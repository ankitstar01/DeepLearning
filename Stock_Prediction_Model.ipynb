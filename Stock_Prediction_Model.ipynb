{
  "nbformat": 4,
  "nbformat_minor": 0,
  "metadata": {
    "colab": {
      "name": "Stock-Prediction-Model.ipynb",
      "provenance": [],
      "collapsed_sections": [],
      "include_colab_link": true
    },
    "kernelspec": {
      "name": "python3",
      "display_name": "Python 3"
    }
  },
  "cells": [
    {
      "cell_type": "markdown",
      "metadata": {
        "id": "view-in-github",
        "colab_type": "text"
      },
      "source": [
        "<a href=\"https://colab.research.google.com/github/ankitstar01/DeepLearning/blob/master/Stock_Prediction_Model.ipynb\" target=\"_parent\"><img src=\"https://colab.research.google.com/assets/colab-badge.svg\" alt=\"Open In Colab\"/></a>"
      ]
    },
    {
      "cell_type": "code",
      "metadata": {
        "id": "7LsKDQ3X0dfv",
        "colab": {
          "base_uri": "https://localhost:8080/",
          "height": 593
        },
        "outputId": "4f1916e3-5fef-47dd-dfb2-a4ac8817c457"
      },
      "source": [
        "!mkdir Data\n",
        "!mkdir Data/Historic\n",
        "!mkdir Data/Recent\n",
        "!mkdir Models\n",
        "\n",
        "import matplotlib.pyplot as plt\n",
        "import pandas as pd\n",
        "import numpy as np\n",
        "import keras\n",
        "import os\n",
        " \n",
        "from sklearn.preprocessing import MinMaxScaler\n",
        "from polygon import RESTClient\n",
        "from tensorflow.keras import Sequential\n",
        "from tensorflow.keras.layers import Dense, LSTM, Dropout, Bidirectional, Activation\n",
        " \n",
        "API_KEY = 'vqeohd8x5k1x6PKiisJQS8RgS3A1iRQC'\n",
        "ticker = 'GME'"
      ],
      "execution_count": 1,
      "outputs": [
        {
          "output_type": "error",
          "ename": "ModuleNotFoundError",
          "evalue": "ignored",
          "traceback": [
            "\u001b[0;31m---------------------------------------------------------------------------\u001b[0m",
            "\u001b[0;31mModuleNotFoundError\u001b[0m                       Traceback (most recent call last)",
            "\u001b[0;32m<ipython-input-1-a914d4fe8c0e>\u001b[0m in \u001b[0;36m<module>\u001b[0;34m()\u001b[0m\n\u001b[1;32m     10\u001b[0m \u001b[0;34m\u001b[0m\u001b[0m\n\u001b[1;32m     11\u001b[0m \u001b[0;32mfrom\u001b[0m \u001b[0msklearn\u001b[0m\u001b[0;34m.\u001b[0m\u001b[0mpreprocessing\u001b[0m \u001b[0;32mimport\u001b[0m \u001b[0mMinMaxScaler\u001b[0m\u001b[0;34m\u001b[0m\u001b[0;34m\u001b[0m\u001b[0m\n\u001b[0;32m---> 12\u001b[0;31m \u001b[0;32mfrom\u001b[0m \u001b[0mpolygon\u001b[0m \u001b[0;32mimport\u001b[0m \u001b[0mRESTClient\u001b[0m\u001b[0;34m\u001b[0m\u001b[0;34m\u001b[0m\u001b[0m\n\u001b[0m\u001b[1;32m     13\u001b[0m \u001b[0;32mfrom\u001b[0m \u001b[0mtensorflow\u001b[0m\u001b[0;34m.\u001b[0m\u001b[0mkeras\u001b[0m \u001b[0;32mimport\u001b[0m \u001b[0mSequential\u001b[0m\u001b[0;34m\u001b[0m\u001b[0;34m\u001b[0m\u001b[0m\n\u001b[1;32m     14\u001b[0m \u001b[0;32mfrom\u001b[0m \u001b[0mtensorflow\u001b[0m\u001b[0;34m.\u001b[0m\u001b[0mkeras\u001b[0m\u001b[0;34m.\u001b[0m\u001b[0mlayers\u001b[0m \u001b[0;32mimport\u001b[0m \u001b[0mDense\u001b[0m\u001b[0;34m,\u001b[0m \u001b[0mLSTM\u001b[0m\u001b[0;34m,\u001b[0m \u001b[0mDropout\u001b[0m\u001b[0;34m,\u001b[0m \u001b[0mBidirectional\u001b[0m\u001b[0;34m,\u001b[0m \u001b[0mActivation\u001b[0m\u001b[0;34m\u001b[0m\u001b[0;34m\u001b[0m\u001b[0m\n",
            "\u001b[0;31mModuleNotFoundError\u001b[0m: No module named 'polygon'",
            "",
            "\u001b[0;31m---------------------------------------------------------------------------\u001b[0;32m\nNOTE: If your import is failing due to a missing package, you can\nmanually install dependencies using either !pip or !apt.\n\nTo view examples of installing some common dependencies, click the\n\"Open Examples\" button below.\n\u001b[0;31m---------------------------------------------------------------------------\u001b[0m\n"
          ]
        }
      ]
    },
    {
      "cell_type": "code",
      "metadata": {
        "id": "yyURNbuX00Zh"
      },
      "source": [
        "f = open('Data/Historic/' + ticker + '.csv', 'w')\n",
        "with RESTClient(API_KEY) as client:\n",
        "    resp = client.stocks_equities_aggregates(ticker=ticker, multiplier=15, timespan='minute',\n",
        "                                              from_='2020-10-03', to='2021-02-03', unadjusted=False,\n",
        "                                              sort='asc', limit=50000)\n",
        "    resp = resp.results\n",
        "    f.write('timestamp,open,low,high,volume,close\\n')\n",
        "    for query in resp:\n",
        "        f.write(str(query['t']) + ',' + str(query['o']) + ',' + str(query['l']) + ','\n",
        "                + str(query['h']) + ',' + str(query['v']) + ',' + str(query['c']) + '\\n')\n",
        "f.close()\n",
        "f = open('Data/Historic/' + ticker + '.csv', 'r')\n",
        "df = pd.read_csv(f)"
      ],
      "execution_count": null,
      "outputs": []
    },
    {
      "cell_type": "code",
      "metadata": {
        "id": "LLsAewGT08AP"
      },
      "source": [
        "df.tail()"
      ],
      "execution_count": null,
      "outputs": []
    },
    {
      "cell_type": "code",
      "metadata": {
        "colab": {
          "base_uri": "https://localhost:8080/",
          "height": 204
        },
        "id": "V_ZBUCPC0-Ev",
        "outputId": "55fc6d46-c2d5-42b6-d7ad-296c9cac8b86"
      },
      "source": [
        "df = df.drop(['timestamp'], axis=1)\n",
        "df.tail()"
      ],
      "execution_count": null,
      "outputs": [
        {
          "output_type": "execute_result",
          "data": {
            "text/html": [
              "<div>\n",
              "<style scoped>\n",
              "    .dataframe tbody tr th:only-of-type {\n",
              "        vertical-align: middle;\n",
              "    }\n",
              "\n",
              "    .dataframe tbody tr th {\n",
              "        vertical-align: top;\n",
              "    }\n",
              "\n",
              "    .dataframe thead th {\n",
              "        text-align: right;\n",
              "    }\n",
              "</style>\n",
              "<table border=\"1\" class=\"dataframe\">\n",
              "  <thead>\n",
              "    <tr style=\"text-align: right;\">\n",
              "      <th></th>\n",
              "      <th>open</th>\n",
              "      <th>low</th>\n",
              "      <th>high</th>\n",
              "      <th>volume</th>\n",
              "      <th>close</th>\n",
              "    </tr>\n",
              "  </thead>\n",
              "  <tbody>\n",
              "    <tr>\n",
              "      <th>4582</th>\n",
              "      <td>90.05</td>\n",
              "      <td>89.50</td>\n",
              "      <td>90.09</td>\n",
              "      <td>24463.0</td>\n",
              "      <td>89.6000</td>\n",
              "    </tr>\n",
              "    <tr>\n",
              "      <th>4583</th>\n",
              "      <td>89.30</td>\n",
              "      <td>89.01</td>\n",
              "      <td>89.50</td>\n",
              "      <td>28862.0</td>\n",
              "      <td>89.0701</td>\n",
              "    </tr>\n",
              "    <tr>\n",
              "      <th>4584</th>\n",
              "      <td>89.20</td>\n",
              "      <td>88.50</td>\n",
              "      <td>89.20</td>\n",
              "      <td>38626.0</td>\n",
              "      <td>89.0000</td>\n",
              "    </tr>\n",
              "    <tr>\n",
              "      <th>4585</th>\n",
              "      <td>89.00</td>\n",
              "      <td>87.50</td>\n",
              "      <td>89.00</td>\n",
              "      <td>56526.0</td>\n",
              "      <td>87.5400</td>\n",
              "    </tr>\n",
              "    <tr>\n",
              "      <th>4586</th>\n",
              "      <td>87.50</td>\n",
              "      <td>87.37</td>\n",
              "      <td>89.35</td>\n",
              "      <td>61108.0</td>\n",
              "      <td>88.8800</td>\n",
              "    </tr>\n",
              "  </tbody>\n",
              "</table>\n",
              "</div>"
            ],
            "text/plain": [
              "       open    low   high   volume    close\n",
              "4582  90.05  89.50  90.09  24463.0  89.6000\n",
              "4583  89.30  89.01  89.50  28862.0  89.0701\n",
              "4584  89.20  88.50  89.20  38626.0  89.0000\n",
              "4585  89.00  87.50  89.00  56526.0  87.5400\n",
              "4586  87.50  87.37  89.35  61108.0  88.8800"
            ]
          },
          "metadata": {
            "tags": []
          },
          "execution_count": 64
        }
      ]
    },
    {
      "cell_type": "code",
      "metadata": {
        "colab": {
          "base_uri": "https://localhost:8080/"
        },
        "id": "YX4XJtaL1CQb",
        "outputId": "a480334c-da97-4191-d203-8670acf6e81e"
      },
      "source": [
        "rows = len(df)\n",
        "df_training = df[:rows - 16]\n",
        "df_testing = df[-16:]\n",
        "training_df = df_training.copy()\n",
        "\n",
        "scaler = MinMaxScaler()\n",
        "df_training = scaler.fit_transform(df_training)\n",
        "df_training.shape"
      ],
      "execution_count": null,
      "outputs": [
        {
          "output_type": "execute_result",
          "data": {
            "text/plain": [
              "(4571, 5)"
            ]
          },
          "metadata": {
            "tags": []
          },
          "execution_count": 65
        }
      ]
    },
    {
      "cell_type": "code",
      "metadata": {
        "colab": {
          "base_uri": "https://localhost:8080/"
        },
        "id": "XFD1T2a92O-M",
        "outputId": "e41dba94-0170-4346-b038-f202206b2e65"
      },
      "source": [
        "x_train, y_train, x_test, y_test = [], [], [], []\n",
        "for i in range(15, df_training.shape[0]):\n",
        "    x_train.append(df_training[i - 15: i])\n",
        "    y_train.append(df_training[i, 0])\n",
        "x_train, y_train = np.asarray(x_train), np.asarray(y_train)\n",
        "print(x_train.shape)\n",
        "print(y_train.shape)"
      ],
      "execution_count": null,
      "outputs": [
        {
          "output_type": "stream",
          "text": [
            "(4556, 15, 5)\n",
            "(4556,)\n"
          ],
          "name": "stdout"
        }
      ]
    },
    {
      "cell_type": "code",
      "metadata": {
        "colab": {
          "base_uri": "https://localhost:8080/"
        },
        "id": "NkDSiWFR3vbZ",
        "outputId": "dad28629-5a4e-4dc3-be16-b3d58eecdc35"
      },
      "source": [
        "df_testing = scaler.transform(df_testing)\n",
        "x_test = [df_testing[:-1]]\n",
        "x_test = np.asarray(x_test)\n",
        "y_test = []\n",
        "y_test.append(df_testing[-1, 0])\n",
        "y_test = np.asarray(y_test)\n",
        "print(x_test.shape)\n",
        "print(y_test.shape)"
      ],
      "execution_count": null,
      "outputs": [
        {
          "output_type": "stream",
          "text": [
            "(1, 15, 5)\n",
            "(1,)\n"
          ],
          "name": "stdout"
        }
      ]
    },
    {
      "cell_type": "code",
      "metadata": {
        "id": "5kBGiK9V5LqN"
      },
      "source": [
        "model = Sequential()\n",
        "model.add(LSTM(units=50, activation='relu', input_shape=(15, 5), return_sequences=True))\n",
        "model.add(Dropout(0.1))\n",
        "model.add(LSTM(units=60, activation='relu', return_sequences=True))\n",
        "model.add(Dropout(0.1))\n",
        "model.add(LSTM(units=80, activation='relu', return_sequences=True))\n",
        "model.add(Dropout(0.1))\n",
        "model.add(LSTM(units=100, activation='relu', return_sequences=True))\n",
        "model.add(Dropout(0.1))\n",
        "model.add(LSTM(units=120, activation='relu', return_sequences=False))\n",
        "model.add(Dropout(0.1))\n",
        "model.add(Dense(25))\n",
        "model.add(Dense(1))"
      ],
      "execution_count": null,
      "outputs": []
    },
    {
      "cell_type": "code",
      "metadata": {
        "colab": {
          "base_uri": "https://localhost:8080/"
        },
        "id": "cZCSuejx7od_",
        "outputId": "a6ed0614-bd5f-4d36-9a46-fd41f724ae6b"
      },
      "source": [
        "model.compile(optimizer='adam', loss='mean_squared_error')\n",
        "model.fit(x_train, y_train, epochs=20, batch_size=32)"
      ],
      "execution_count": null,
      "outputs": [
        {
          "output_type": "stream",
          "text": [
            "Epoch 1/20\n",
            "143/143 [==============================] - 14s 63ms/step - loss: 1.9601e-04\n",
            "Epoch 2/20\n",
            "143/143 [==============================] - 9s 62ms/step - loss: 2.5408e-04\n",
            "Epoch 3/20\n",
            "143/143 [==============================] - 9s 62ms/step - loss: 2.1044e-04\n",
            "Epoch 4/20\n",
            "143/143 [==============================] - 9s 62ms/step - loss: 1.9300e-04\n",
            "Epoch 5/20\n",
            "143/143 [==============================] - 9s 64ms/step - loss: 1.8986e-04\n",
            "Epoch 6/20\n",
            "143/143 [==============================] - 9s 62ms/step - loss: 2.0630e-04\n",
            "Epoch 7/20\n",
            "143/143 [==============================] - 9s 61ms/step - loss: 2.1846e-04\n",
            "Epoch 8/20\n",
            "143/143 [==============================] - 9s 62ms/step - loss: 2.6639e-04\n",
            "Epoch 9/20\n",
            "143/143 [==============================] - 9s 61ms/step - loss: 1.7130e-04\n",
            "Epoch 10/20\n",
            "143/143 [==============================] - 9s 63ms/step - loss: 2.0389e-04\n",
            "Epoch 11/20\n",
            "143/143 [==============================] - 9s 62ms/step - loss: 2.1563e-04\n",
            "Epoch 12/20\n",
            "143/143 [==============================] - 9s 62ms/step - loss: 2.3032e-04\n",
            "Epoch 13/20\n",
            "143/143 [==============================] - 9s 63ms/step - loss: 2.0912e-04\n",
            "Epoch 14/20\n",
            "143/143 [==============================] - 9s 62ms/step - loss: 1.5899e-04\n",
            "Epoch 15/20\n",
            "143/143 [==============================] - 9s 60ms/step - loss: 1.7944e-04\n",
            "Epoch 16/20\n",
            "143/143 [==============================] - 9s 62ms/step - loss: 2.0223e-04\n",
            "Epoch 17/20\n",
            "143/143 [==============================] - 9s 64ms/step - loss: 2.7449e-04\n",
            "Epoch 18/20\n",
            "143/143 [==============================] - 9s 64ms/step - loss: 1.8751e-04\n",
            "Epoch 19/20\n",
            "143/143 [==============================] - 9s 63ms/step - loss: 2.1708e-04\n",
            "Epoch 20/20\n",
            "143/143 [==============================] - 9s 61ms/step - loss: 2.3802e-04\n"
          ],
          "name": "stdout"
        },
        {
          "output_type": "execute_result",
          "data": {
            "text/plain": [
              "<tensorflow.python.keras.callbacks.History at 0x7feebfd3f518>"
            ]
          },
          "metadata": {
            "tags": []
          },
          "execution_count": 61
        }
      ]
    },
    {
      "cell_type": "code",
      "metadata": {
        "colab": {
          "base_uri": "https://localhost:8080/"
        },
        "id": "5vs3WnoM9Ui0",
        "outputId": "8fdc1503-7068-4f83-cc95-6432a697812a"
      },
      "source": [
        "scale = 1/scaler.scale_[0]\n",
        "prediction = model.predict(x_test)\n",
        "prediction = prediction * scale\n",
        "print(prediction[0][0])\n",
        "print((y_test * scale)[0])"
      ],
      "execution_count": null,
      "outputs": [
        {
          "output_type": "stream",
          "text": [
            "WARNING:tensorflow:6 out of the last 10 calls to <function Model.make_predict_function.<locals>.predict_function at 0x7feec2e67488> triggered tf.function retracing. Tracing is expensive and the excessive number of tracings could be due to (1) creating @tf.function repeatedly in a loop, (2) passing tensors with different shapes, (3) passing Python objects instead of tensors. For (1), please define your @tf.function outside of the loop. For (2), @tf.function has experimental_relax_shapes=True option that relaxes argument shapes that can avoid unnecessary retracing. For (3), please refer to https://www.tensorflow.org/guide/function#controlling_retracing and https://www.tensorflow.org/api_docs/python/tf/function for  more details.\n",
            "79.08253\n",
            "78.38\n"
          ],
          "name": "stdout"
        }
      ]
    },
    {
      "cell_type": "code",
      "metadata": {
        "colab": {
          "base_uri": "https://localhost:8080/"
        },
        "id": "Wos4TwM-9xTq",
        "outputId": "3d087cef-c653-4b9d-eb26-1d39725ea7ea"
      },
      "source": [
        "model.save('Models/' + ticker)"
      ],
      "execution_count": null,
      "outputs": [
        {
          "output_type": "stream",
          "text": [
            "INFO:tensorflow:Assets written to: Models/GME/assets\n"
          ],
          "name": "stdout"
        }
      ]
    },
    {
      "cell_type": "code",
      "metadata": {
        "id": "AgjbqGYryxYn"
      },
      "source": [
        "model = keras.models.load_model('Models/' + ticker)"
      ],
      "execution_count": null,
      "outputs": []
    },
    {
      "cell_type": "code",
      "metadata": {
        "id": "iEmQbCFZynbO"
      },
      "source": [
        "f = open('Data/Recent/' + ticker + '.csv', 'w')\n",
        "with RESTClient(API_KEY) as client:\n",
        "    resp = client.stocks_equities_aggregates(ticker=ticker, multiplier=15, timespan='minute',\n",
        "                                             from_='2021-02-04', to='2021-02-06', unadjusted=False,\n",
        "                                             sort='asc', limit=50000)\n",
        "    resp = resp.results\n",
        "    f.write('open,low,high,volume,close\\n')\n",
        "    for query in resp:\n",
        "        f.write(str(query['o']) + ',' + str(query['l']) + ','\n",
        "                + str(query['h']) + ',' + str(query['v']) + ',' + str(query['c']) + '\\n')\n",
        "f.close()\n",
        "f = open('Data/Recent/' + ticker + '.csv', 'r')\n",
        "df = pd.read_csv(f)"
      ],
      "execution_count": null,
      "outputs": []
    },
    {
      "cell_type": "code",
      "metadata": {
        "colab": {
          "base_uri": "https://localhost:8080/",
          "height": 204
        },
        "id": "evkqMRV6yyRL",
        "outputId": "e971f881-6f69-4f69-cfb6-5bbd2f9fc203"
      },
      "source": [
        "df.tail()"
      ],
      "execution_count": null,
      "outputs": [
        {
          "output_type": "execute_result",
          "data": {
            "text/html": [
              "<div>\n",
              "<style scoped>\n",
              "    .dataframe tbody tr th:only-of-type {\n",
              "        vertical-align: middle;\n",
              "    }\n",
              "\n",
              "    .dataframe tbody tr th {\n",
              "        vertical-align: top;\n",
              "    }\n",
              "\n",
              "    .dataframe thead th {\n",
              "        text-align: right;\n",
              "    }\n",
              "</style>\n",
              "<table border=\"1\" class=\"dataframe\">\n",
              "  <thead>\n",
              "    <tr style=\"text-align: right;\">\n",
              "      <th></th>\n",
              "      <th>open</th>\n",
              "      <th>low</th>\n",
              "      <th>high</th>\n",
              "      <th>volume</th>\n",
              "      <th>close</th>\n",
              "    </tr>\n",
              "  </thead>\n",
              "  <tbody>\n",
              "    <tr>\n",
              "      <th>123</th>\n",
              "      <td>68.9700</td>\n",
              "      <td>66.50</td>\n",
              "      <td>69.00</td>\n",
              "      <td>56202.0</td>\n",
              "      <td>67.20</td>\n",
              "    </tr>\n",
              "    <tr>\n",
              "      <th>124</th>\n",
              "      <td>67.2000</td>\n",
              "      <td>66.60</td>\n",
              "      <td>67.52</td>\n",
              "      <td>32799.0</td>\n",
              "      <td>66.65</td>\n",
              "    </tr>\n",
              "    <tr>\n",
              "      <th>125</th>\n",
              "      <td>66.5000</td>\n",
              "      <td>66.50</td>\n",
              "      <td>67.45</td>\n",
              "      <td>42314.0</td>\n",
              "      <td>67.45</td>\n",
              "    </tr>\n",
              "    <tr>\n",
              "      <th>126</th>\n",
              "      <td>67.4499</td>\n",
              "      <td>66.89</td>\n",
              "      <td>68.00</td>\n",
              "      <td>44966.0</td>\n",
              "      <td>66.99</td>\n",
              "    </tr>\n",
              "    <tr>\n",
              "      <th>127</th>\n",
              "      <td>66.8800</td>\n",
              "      <td>66.46</td>\n",
              "      <td>67.11</td>\n",
              "      <td>99084.0</td>\n",
              "      <td>66.46</td>\n",
              "    </tr>\n",
              "  </tbody>\n",
              "</table>\n",
              "</div>"
            ],
            "text/plain": [
              "        open    low   high   volume  close\n",
              "123  68.9700  66.50  69.00  56202.0  67.20\n",
              "124  67.2000  66.60  67.52  32799.0  66.65\n",
              "125  66.5000  66.50  67.45  42314.0  67.45\n",
              "126  67.4499  66.89  68.00  44966.0  66.99\n",
              "127  66.8800  66.46  67.11  99084.0  66.46"
            ]
          },
          "metadata": {
            "tags": []
          },
          "execution_count": 70
        }
      ]
    },
    {
      "cell_type": "code",
      "metadata": {
        "id": "6DXPqG1ryzEP"
      },
      "source": [
        "scaler = MinMaxScaler()\n",
        "df = scaler.fit_transform(df)"
      ],
      "execution_count": null,
      "outputs": []
    },
    {
      "cell_type": "code",
      "metadata": {
        "id": "3--XWtZYy4Qs"
      },
      "source": [
        "testing_df = [df[-16:-1]]\n",
        "testing_df = np.asarray(testing_df)\n",
        "prediction = model.predict(testing_df)\n",
        "prediction = prediction * (1 / scaler.scale_[0])\n",
        "answer = df[-1][0] * (1 / scaler.scale_[0])"
      ],
      "execution_count": null,
      "outputs": []
    },
    {
      "cell_type": "markdown",
      "metadata": {
        "id": "uDNi1WW1LXV8"
      },
      "source": [
        "It shows prediction is 16 and actual is 17, but in the table it says the close price is $67. I am not sure what this issue is. The same is for the prediction above except its different values\n",
        "\n"
      ]
    },
    {
      "cell_type": "code",
      "metadata": {
        "colab": {
          "base_uri": "https://localhost:8080/"
        },
        "id": "N2g3W_1sy6uT",
        "outputId": "76514a8b-86f2-4808-e8ea-6cfbe6643efb"
      },
      "source": [
        "print('Prediction:', prediction[0][0])\n",
        "print('Actual:', answer)"
      ],
      "execution_count": null,
      "outputs": [
        {
          "output_type": "stream",
          "text": [
            "Prediction: 16.054567\n",
            "Actual: 17.129999999999995\n"
          ],
          "name": "stdout"
        }
      ]
    }
  ]
}