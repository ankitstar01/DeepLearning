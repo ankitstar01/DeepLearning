{
  "nbformat": 4,
  "nbformat_minor": 0,
  "metadata": {
    "colab": {
      "name": "Stock.ipynb",
      "provenance": [],
      "collapsed_sections": [],
      "include_colab_link": true
    },
    "kernelspec": {
      "name": "python3",
      "display_name": "Python 3"
    }
  },
  "cells": [
    {
      "cell_type": "markdown",
      "metadata": {
        "id": "view-in-github",
        "colab_type": "text"
      },
      "source": [
        "<a href=\"https://colab.research.google.com/github/ankitstar01/DeepLearning/blob/master/Stock.ipynb\" target=\"_parent\"><img src=\"https://colab.research.google.com/assets/colab-badge.svg\" alt=\"Open In Colab\"/></a>"
      ]
    },
    {
      "cell_type": "code",
      "metadata": {
        "id": "oqXkbN3WkXEK"
      },
      "source": [
        ""
      ],
      "execution_count": null,
      "outputs": []
    },
    {
      "cell_type": "code",
      "metadata": {
        "id": "n-tBNTxO_g_7",
        "outputId": "812cb377-9471-4445-844d-511cb116fe9f",
        "colab": {
          "base_uri": "https://localhost:8080/"
        }
      },
      "source": [
        "!pip install polygon-api-client \n",
        "import pandas as pd\n",
        "import numpy as np\n",
        "import keras\n",
        "import matplotlib.pyplot as plt\n",
        "\n",
        "from datetime import datetime, timedelta\n",
        "from sklearn.preprocessing import MinMaxScaler\n",
        "from polygon import RESTClient\n",
        "from tensorflow.keras import Sequential\n",
        "from tensorflow.keras.layers import Dense, LSTM, Dropout\n",
        "from keras.callbacks import EarlyStopping"
      ],
      "execution_count": 43,
      "outputs": [
        {
          "output_type": "stream",
          "text": [
            "Requirement already satisfied: polygon-api-client in /usr/local/lib/python3.6/dist-packages (0.1.9)\n",
            "Requirement already satisfied: websockets>=8.0.2 in /usr/local/lib/python3.6/dist-packages (from polygon-api-client) (8.1)\n",
            "Requirement already satisfied: websocket-client>=0.56.0 in /usr/local/lib/python3.6/dist-packages (from polygon-api-client) (0.57.0)\n",
            "Requirement already satisfied: requests>=2.22.0 in /usr/local/lib/python3.6/dist-packages (from polygon-api-client) (2.23.0)\n",
            "Requirement already satisfied: six in /usr/local/lib/python3.6/dist-packages (from websocket-client>=0.56.0->polygon-api-client) (1.15.0)\n",
            "Requirement already satisfied: certifi>=2017.4.17 in /usr/local/lib/python3.6/dist-packages (from requests>=2.22.0->polygon-api-client) (2020.12.5)\n",
            "Requirement already satisfied: idna<3,>=2.5 in /usr/local/lib/python3.6/dist-packages (from requests>=2.22.0->polygon-api-client) (2.10)\n",
            "Requirement already satisfied: urllib3!=1.25.0,!=1.25.1,<1.26,>=1.21.1 in /usr/local/lib/python3.6/dist-packages (from requests>=2.22.0->polygon-api-client) (1.24.3)\n",
            "Requirement already satisfied: chardet<4,>=3.0.2 in /usr/local/lib/python3.6/dist-packages (from requests>=2.22.0->polygon-api-client) (3.0.4)\n"
          ],
          "name": "stdout"
        }
      ]
    },
    {
      "cell_type": "code",
      "metadata": {
        "id": "5Qvyu08h_sbp"
      },
      "source": [
        "api_key = 'vqeohd8x5k1x6PKiisJQS8RgS3A1iRQC'\n",
        "TIME_HORIZON = 10\n",
        "current_day = datetime.today().strftime('%Y-%m-%d')\n",
        "loss_function = 'mean_squared_error'\n",
        "activation_function = 'relu'\n",
        "optimizer = 'adam'\n",
        "record_limit = 50000\n",
        "timespan = 'minute'\n",
        "asc_sorting_order = 'asc'\n",
        "desc_sorting_order = 'desc'\n",
        "start_date = (datetime.today() - timedelta(days=80)).strftime('%Y-%m-%d')\n",
        "to_date = (datetime.today() - timedelta(days=2)).strftime('%Y-%m-%d')\n",
        "\n",
        "# folder path variables\n",
        "model_folder_path = 'Models/'\n",
        "historic_folder_path = 'Data/Historic/'\n",
        "recent_folder_path = 'Data/Recent/'\n",
        "file_extension = '.csv'\n",
        "historic_file_header = 'timestamp,open,low,high,volume,close\\n'\n",
        "recent_file_header = 'open,low,high,volume,close\\n'\n",
        "\n",
        "# plot variables\n",
        "stock_price_label = 'Stock Price'\n",
        "real_label = 'Real'\n",
        "predicted_label = 'Predicted'\n",
        "x_label = 'time'\n",
        "answers_colour = 'r'\n",
        "prediction_colour = 'c'\n",
        "\n",
        "ticker = 'GME'\n",
        "time_horizon = 10\n",
        "time_span = 'minute'\n",
        "key = 'vqeohd8x5k1x6PKiisJQS8RgS3A1iRQC'"
      ],
      "execution_count": 6,
      "outputs": []
    },
    {
      "cell_type": "code",
      "metadata": {
        "id": "dTaTglVT_6O7"
      },
      "source": [
        "\n",
        "def get_historic_data(ticker, time_horizon, time_span, key):\n",
        "    f = open(historic_folder_path + ticker + file_extension, 'w')\n",
        "    with RESTClient(key) as client:\n",
        "        resp = client.stocks_equities_aggregates(ticker=ticker, multiplier=time_horizon, timespan=time_span,\n",
        "                                                 from_=start_date, to=to_date, unadjusted=False,\n",
        "                                                 sort=asc_sorting_order, limit=record_limit)\n",
        "        resp = resp.results\n",
        "        f.write(historic_file_header)\n",
        "        for query in resp:\n",
        "            f.write(str(query['t']) + ',' + str(query['o']) + ',' + str(query['l']) + ','\n",
        "                    + str(query['h']) + ',' + str(query['v']) + ',' + str(query['c']) + '\\n')\n",
        "    f.close()\n",
        "    f = open(historic_folder_path + ticker + file_extension, 'r')\n",
        "    df = pd.read_csv(f)\n",
        "    return df"
      ],
      "execution_count": 7,
      "outputs": []
    },
    {
      "cell_type": "code",
      "metadata": {
        "id": "PihlLFx1Afeo"
      },
      "source": [
        "\n",
        "def preprocess_training_data(training_df):\n",
        "    training_df = training_df.drop(['timestamp'], axis=1)\n",
        "    scaler = MinMaxScaler()\n",
        "    scaler_df = training_df.copy()\n",
        "    scaler.fit_transform(scaler_df)\n",
        "    scaler = scaler.scale_\n",
        "    training_df['open'] *= scaler[0]\n",
        "    training_df['low'] *= scaler[1]\n",
        "    training_df['high'] *= scaler[2]\n",
        "    training_df['volume'] *= scaler[3]\n",
        "    training_df['close'] *= scaler[4]\n",
        "\n",
        "    x_train, y_train = [], []\n",
        "    training_df = np.asarray(training_df)\n",
        "    for i in range(15, training_df.shape[0]):\n",
        "        x_train.append(training_df[i - 15: i])\n",
        "        y_train.append(training_df[i, 0])\n",
        "    x_train, y_train,xv,yv , x_test,y_test = np.asarray(x_train[:-120]), np.asarray(y_train[:-120]),np.array(x_train[-120:-60]), np.array(y_train[-120:-60]),np.asarray(x_train[-60:]), np.asarray(y_train[-60:])\n",
        "    return x_train, y_train,xv,yv,x_test,y_test, scaler"
      ],
      "execution_count": 68,
      "outputs": []
    },
    {
      "cell_type": "code",
      "metadata": {
        "id": "hvsEd7pbAg2T"
      },
      "source": [
        "\n",
        "def get_recent_data(ticker, key, time_horizon, time_span):\n",
        "    f = open(recent_folder_path + ticker + file_extension, 'w')\n",
        "    with RESTClient(key) as client:\n",
        "        resp = client.stocks_equities_aggregates(ticker=ticker, multiplier=time_horizon, timespan=time_span,\n",
        "                                                 from_=to_date, to=current_day, unadjusted=False,\n",
        "                                                 sort=asc_sorting_order, limit=record_limit)\n",
        "        resp = resp.results\n",
        "        f.write(historic_file_header)\n",
        "        for query in resp:\n",
        "            f.write(str(query['t']) + ',' + str(query['o']) + ',' + str(query['l']) + ','\n",
        "                    + str(query['h']) + ',' + str(query['v']) + ',' + str(query['c']) + '\\n')\n",
        "    f.close()\n",
        "\n",
        "def update_recent_data(ticker, key, time_horizon, time_span):\n",
        "    f = open(recent_folder_path + ticker + file_extension, 'a')\n",
        "    with RESTClient(key) as client:\n",
        "        resp = client.stocks_equities_aggregates(ticker=ticker, multiplier=time_horizon, timespan=time_span,\n",
        "                                                 from_=to_date, to=current_day, unadjusted=False,\n",
        "                                                 sort=desc_sorting_order, limit=record_limit)\n",
        "        query = resp.results[0]\n",
        "        f.write(str(query['t']) + ',' + str(query['o']) + ',' + str(query['l']) + ','\n",
        "                + str(query['h']) + ',' + str(query['v']) + ',' + str(query['c']) + '\\n')\n",
        "    f.close()\n",
        "    f = open(recent_folder_path + ticker + file_extension, 'r')\n",
        "    entry_price = query['o']\n",
        "    recent_df = pd.read_csv(f)\n",
        "    return recent_df, entry_price\n",
        "\n",
        "def preprocess_recent_data(recent_df, scaler):\n",
        "    recent_df = recent_df.drop(['timestamp'], axis=1)\n",
        "    recent_df['open'] *= scaler[0]\n",
        "    recent_df['low'] *= scaler[1]\n",
        "    recent_df['high'] *= scaler[2]\n",
        "    recent_df['volume'] *= scaler[3]\n",
        "    recent_df['close'] *= scaler[4]\n",
        "    df = [recent_df[-15:]]\n",
        "    df = np.asarray(df)\n",
        "    return df\n",
        "def visualize_model(predictions, answers, ticker):\n",
        "    plt.figure(figsize=(15, 5))\n",
        "    plt.plot(answers, c=answers_colour, label=real_label + ' ' + ticker + ' ' + stock_price_label)\n",
        "    plt.plot(predictions, c=prediction_colour, label=predicted_label + ' ' + ticker + ' ' + stock_price_label)\n",
        "    plt.xlabel(x_label)\n",
        "    plt.ylabel(ticker + ' ' + stock_price_label)\n",
        "    plt.legend()\n",
        "    plt.show()\n",
        "\n",
        "def create_model(ticker, training_input, training_output, scaler):\n",
        "    model = Sequential()\n",
        "    model.add(LSTM(units=50, activation=activation_function, input_shape=(15, 5), return_sequences=True))\n",
        "    model.add(Dropout(0.1))\n",
        "    model.add(LSTM(units=60, activation=activation_function, return_sequences=True))\n",
        "    model.add(Dropout(0.1))\n",
        "    model.add(LSTM(units=80, activation=activation_function, return_sequences=True))\n",
        "    model.add(Dropout(0.1))\n",
        "    model.add(LSTM(units=100, activation=activation_function, return_sequences=True))\n",
        "    model.add(Dropout(0.1))\n",
        "    model.add(LSTM(units=120, activation=activation_function, return_sequences=False))\n",
        "    model.add(Dropout(0.1))\n",
        "    model.add(Dense(25))\n",
        "    model.add(Dense(1))\n",
        "    model.compile(optimizer=optimizer, loss=loss_function)\n",
        "    es=EarlyStopping(monitor='val_loss',mode='min',patience=5,verbose=1)\n",
        "    model.fit(training_input, training_output,validation_data=(xv,yv), epochs=100, batch_size=32,verbose=1,callbacks=[es])\n",
        "    model.save(model_folder_path + ticker)\n",
        "    predictions = model.predict(training_input) \n",
        "    answers = training_output \n",
        "\n",
        "    return predictions, answers"
      ],
      "execution_count": 71,
      "outputs": []
    },
    {
      "cell_type": "code",
      "metadata": {
        "id": "uHoN-xltE4Of"
      },
      "source": [
        "# !mkdir data\n",
        "# !cd data\n",
        "\n",
        "def get_prediction(model, scaler, last_data):\n",
        "    prediction = model.predict(last_data)\n",
        "    prediction *= 1/scaler[0]\n",
        "    return prediction\n",
        "\n",
        "def convert_timestamp(timestamp):\n",
        "    return datetime.fromtimestamp(timestamp/1000)"
      ],
      "execution_count": 64,
      "outputs": []
    },
    {
      "cell_type": "code",
      "metadata": {
        "id": "Q1-mYab3FzFz",
        "outputId": "e19a0441-2959-4144-e5a3-626600ef98b5",
        "colab": {
          "base_uri": "https://localhost:8080/",
          "height": 406
        }
      },
      "source": [
        "df=pd.read_csv('data/Historic/dayAMC.csv')\n",
        "df['timestamp']=df['timestamp'].apply(lambda x:datetime.fromtimestamp(x/1000))\n",
        "df.head(51*5)"
      ],
      "execution_count": 75,
      "outputs": [
        {
          "output_type": "execute_result",
          "data": {
            "text/html": [
              "<div>\n",
              "<style scoped>\n",
              "    .dataframe tbody tr th:only-of-type {\n",
              "        vertical-align: middle;\n",
              "    }\n",
              "\n",
              "    .dataframe tbody tr th {\n",
              "        vertical-align: top;\n",
              "    }\n",
              "\n",
              "    .dataframe thead th {\n",
              "        text-align: right;\n",
              "    }\n",
              "</style>\n",
              "<table border=\"1\" class=\"dataframe\">\n",
              "  <thead>\n",
              "    <tr style=\"text-align: right;\">\n",
              "      <th></th>\n",
              "      <th>timestamp</th>\n",
              "      <th>open</th>\n",
              "      <th>low</th>\n",
              "      <th>high</th>\n",
              "      <th>volume</th>\n",
              "      <th>close</th>\n",
              "    </tr>\n",
              "  </thead>\n",
              "  <tbody>\n",
              "    <tr>\n",
              "      <th>0</th>\n",
              "      <td>2013-12-18 05:00:00</td>\n",
              "      <td>19.18</td>\n",
              "      <td>18.90</td>\n",
              "      <td>19.790</td>\n",
              "      <td>15026951.0</td>\n",
              "      <td>18.90</td>\n",
              "    </tr>\n",
              "    <tr>\n",
              "      <th>1</th>\n",
              "      <td>2013-12-19 05:00:00</td>\n",
              "      <td>18.90</td>\n",
              "      <td>18.81</td>\n",
              "      <td>19.490</td>\n",
              "      <td>1607724.0</td>\n",
              "      <td>19.49</td>\n",
              "    </tr>\n",
              "    <tr>\n",
              "      <th>2</th>\n",
              "      <td>2013-12-20 05:00:00</td>\n",
              "      <td>19.65</td>\n",
              "      <td>19.40</td>\n",
              "      <td>19.770</td>\n",
              "      <td>737927.0</td>\n",
              "      <td>19.68</td>\n",
              "    </tr>\n",
              "    <tr>\n",
              "      <th>3</th>\n",
              "      <td>2013-12-23 05:00:00</td>\n",
              "      <td>19.79</td>\n",
              "      <td>19.50</td>\n",
              "      <td>19.990</td>\n",
              "      <td>698342.0</td>\n",
              "      <td>19.74</td>\n",
              "    </tr>\n",
              "    <tr>\n",
              "      <th>4</th>\n",
              "      <td>2013-12-24 05:00:00</td>\n",
              "      <td>19.74</td>\n",
              "      <td>19.50</td>\n",
              "      <td>19.820</td>\n",
              "      <td>213859.0</td>\n",
              "      <td>19.53</td>\n",
              "    </tr>\n",
              "    <tr>\n",
              "      <th>...</th>\n",
              "      <td>...</td>\n",
              "      <td>...</td>\n",
              "      <td>...</td>\n",
              "      <td>...</td>\n",
              "      <td>...</td>\n",
              "      <td>...</td>\n",
              "    </tr>\n",
              "    <tr>\n",
              "      <th>250</th>\n",
              "      <td>2014-12-16 05:00:00</td>\n",
              "      <td>24.98</td>\n",
              "      <td>24.19</td>\n",
              "      <td>24.995</td>\n",
              "      <td>207040.0</td>\n",
              "      <td>24.20</td>\n",
              "    </tr>\n",
              "    <tr>\n",
              "      <th>251</th>\n",
              "      <td>2014-12-17 05:00:00</td>\n",
              "      <td>24.64</td>\n",
              "      <td>24.21</td>\n",
              "      <td>25.630</td>\n",
              "      <td>481346.0</td>\n",
              "      <td>25.40</td>\n",
              "    </tr>\n",
              "    <tr>\n",
              "      <th>252</th>\n",
              "      <td>2014-12-18 05:00:00</td>\n",
              "      <td>25.74</td>\n",
              "      <td>25.45</td>\n",
              "      <td>26.170</td>\n",
              "      <td>315352.0</td>\n",
              "      <td>25.91</td>\n",
              "    </tr>\n",
              "    <tr>\n",
              "      <th>253</th>\n",
              "      <td>2014-12-19 05:00:00</td>\n",
              "      <td>25.92</td>\n",
              "      <td>25.88</td>\n",
              "      <td>26.570</td>\n",
              "      <td>530344.0</td>\n",
              "      <td>26.17</td>\n",
              "    </tr>\n",
              "    <tr>\n",
              "      <th>254</th>\n",
              "      <td>2014-12-22 05:00:00</td>\n",
              "      <td>26.06</td>\n",
              "      <td>26.06</td>\n",
              "      <td>26.720</td>\n",
              "      <td>248201.0</td>\n",
              "      <td>26.48</td>\n",
              "    </tr>\n",
              "  </tbody>\n",
              "</table>\n",
              "<p>255 rows × 6 columns</p>\n",
              "</div>"
            ],
            "text/plain": [
              "              timestamp   open    low    high      volume  close\n",
              "0   2013-12-18 05:00:00  19.18  18.90  19.790  15026951.0  18.90\n",
              "1   2013-12-19 05:00:00  18.90  18.81  19.490   1607724.0  19.49\n",
              "2   2013-12-20 05:00:00  19.65  19.40  19.770    737927.0  19.68\n",
              "3   2013-12-23 05:00:00  19.79  19.50  19.990    698342.0  19.74\n",
              "4   2013-12-24 05:00:00  19.74  19.50  19.820    213859.0  19.53\n",
              "..                  ...    ...    ...     ...         ...    ...\n",
              "250 2014-12-16 05:00:00  24.98  24.19  24.995    207040.0  24.20\n",
              "251 2014-12-17 05:00:00  24.64  24.21  25.630    481346.0  25.40\n",
              "252 2014-12-18 05:00:00  25.74  25.45  26.170    315352.0  25.91\n",
              "253 2014-12-19 05:00:00  25.92  25.88  26.570    530344.0  26.17\n",
              "254 2014-12-22 05:00:00  26.06  26.06  26.720    248201.0  26.48\n",
              "\n",
              "[255 rows x 6 columns]"
            ]
          },
          "metadata": {
            "tags": []
          },
          "execution_count": 75
        }
      ]
    },
    {
      "cell_type": "code",
      "metadata": {
        "colab": {
          "base_uri": "https://localhost:8080/"
        },
        "id": "JA_e8tHRF1sM",
        "outputId": "de32a522-6885-4f67-eaef-fa6410d7bf67"
      },
      "source": [
        "x_train, y_train,xv,yv,x_test,y_test, scaler = preprocess_training_data(df)\n",
        "print(x_train.shape,xv.shape,x_test.shape)\n",
        "print(y_train.shape,yv.shape,y_test.shape)\n",
        "print(scaler)"
      ],
      "execution_count": 76,
      "outputs": [
        {
          "output_type": "stream",
          "text": [
            "(1665, 15, 5) (60, 15, 5) (60, 15, 5)\n",
            "(1665,) (60,) (60,)\n",
            "[2.95508274e-02 2.96647879e-02 2.93255132e-02 7.95953376e-10\n",
            " 2.95159386e-02]\n"
          ],
          "name": "stdout"
        }
      ]
    },
    {
      "cell_type": "code",
      "metadata": {
        "id": "-FDzKfcJHPoI",
        "outputId": "61b4f4aa-25cc-4c88-b12a-9040f36fc8af",
        "colab": {
          "base_uri": "https://localhost:8080/"
        }
      },
      "source": [
        "predictions, answers = create_model(ticker, x_train, y_train, scaler)"
      ],
      "execution_count": 77,
      "outputs": [
        {
          "output_type": "stream",
          "text": [
            "Epoch 1/100\n",
            "53/53 [==============================] - 9s 68ms/step - loss: 0.1709 - val_loss: 0.0188\n",
            "Epoch 2/100\n",
            "53/53 [==============================] - 3s 56ms/step - loss: 0.0100 - val_loss: 0.0085\n",
            "Epoch 3/100\n",
            "53/53 [==============================] - 3s 56ms/step - loss: 0.0053 - val_loss: 0.0023\n",
            "Epoch 4/100\n",
            "53/53 [==============================] - 3s 56ms/step - loss: 0.0051 - val_loss: 0.0017\n",
            "Epoch 5/100\n",
            "53/53 [==============================] - 3s 56ms/step - loss: 0.0041 - val_loss: 0.0017\n",
            "Epoch 6/100\n",
            "53/53 [==============================] - 3s 56ms/step - loss: 0.0041 - val_loss: 0.0017\n",
            "Epoch 7/100\n",
            "53/53 [==============================] - 3s 56ms/step - loss: 0.0036 - val_loss: 0.0015\n",
            "Epoch 8/100\n",
            "53/53 [==============================] - 3s 56ms/step - loss: 0.0032 - val_loss: 0.0017\n",
            "Epoch 9/100\n",
            "53/53 [==============================] - 3s 56ms/step - loss: 0.0040 - val_loss: 0.0017\n",
            "Epoch 10/100\n",
            "53/53 [==============================] - 3s 56ms/step - loss: 0.0032 - val_loss: 0.0015\n",
            "Epoch 11/100\n",
            "53/53 [==============================] - 3s 65ms/step - loss: 0.0033 - val_loss: 0.0015\n",
            "Epoch 12/100\n",
            "53/53 [==============================] - 3s 56ms/step - loss: 0.0032 - val_loss: 0.0014\n",
            "Epoch 13/100\n",
            "53/53 [==============================] - 3s 56ms/step - loss: 0.0030 - val_loss: 0.0016\n",
            "Epoch 14/100\n",
            "53/53 [==============================] - 3s 57ms/step - loss: 0.0027 - val_loss: 0.0015\n",
            "Epoch 15/100\n",
            "53/53 [==============================] - 3s 56ms/step - loss: 0.0027 - val_loss: 0.0015\n",
            "Epoch 16/100\n",
            "53/53 [==============================] - 3s 56ms/step - loss: 0.0026 - val_loss: 0.0012\n",
            "Epoch 17/100\n",
            "53/53 [==============================] - 3s 56ms/step - loss: 0.0028 - val_loss: 0.0011\n",
            "Epoch 18/100\n",
            "53/53 [==============================] - 3s 56ms/step - loss: 0.0033 - val_loss: 0.0012\n",
            "Epoch 19/100\n",
            "53/53 [==============================] - 3s 57ms/step - loss: 0.0028 - val_loss: 0.0016\n",
            "Epoch 20/100\n",
            "53/53 [==============================] - 3s 57ms/step - loss: 0.0031 - val_loss: 0.0011\n",
            "Epoch 21/100\n",
            "53/53 [==============================] - 3s 56ms/step - loss: 0.0025 - val_loss: 0.0014\n",
            "Epoch 22/100\n",
            "53/53 [==============================] - 3s 56ms/step - loss: 0.0028 - val_loss: 0.0014\n",
            "Epoch 00022: early stopping\n",
            "INFO:tensorflow:Assets written to: Models/GME/assets\n"
          ],
          "name": "stdout"
        }
      ]
    },
    {
      "cell_type": "code",
      "metadata": {
        "id": "05Oi1HnUHh1X",
        "outputId": "e699b6d7-8fcf-4bd8-f4fe-f352fc2e87ec",
        "colab": {
          "base_uri": "https://localhost:8080/",
          "height": 334
        }
      },
      "source": [
        "visualize_model(predictions, answers, ticker)"
      ],
      "execution_count": 78,
      "outputs": [
        {
          "output_type": "display_data",
          "data": {
            "image/png": "[encoded data removed]",
            "text/plain": [
              "<Figure size 1080x360 with 1 Axes>"
            ]
          },
          "metadata": {
            "tags": [],
            "needs_background": "light"
          }
        }
      ]
    },
    {
      "cell_type": "code",
      "metadata": {
        "colab": {
          "base_uri": "https://localhost:8080/"
        },
        "id": "Hj0RX5sOHjz3",
        "outputId": "5c161876-e525-4518-a47c-bdb66e4d720f"
      },
      "source": [
        "model = keras.models.load_model('Models/' + ticker)\n",
        "model.evaluate(x_test,y_test)"
      ],
      "execution_count": 40,
      "outputs": [
        {
          "output_type": "stream",
          "text": [
            "1/1 [==============================] - 1s 731ms/step - loss: 0.0256\n"
          ],
          "name": "stdout"
        },
        {
          "output_type": "execute_result",
          "data": {
            "text/plain": [
              "0.0256170853972435"
            ]
          },
          "metadata": {
            "tags": []
          },
          "execution_count": 40
        }
      ]
    },
    {
      "cell_type": "code",
      "metadata": {
        "colab": {
          "base_uri": "https://localhost:8080/"
        },
        "id": "0pZdzwxDJEah",
        "outputId": "af676355-dfe4-49c2-cd1e-902bab676e4d"
      },
      "source": [
        "model.save('models/' + ticker)"
      ],
      "execution_count": null,
      "outputs": [
        {
          "output_type": "stream",
          "text": [
            "INFO:tensorflow:Assets written to: models/GME/assets\n"
          ],
          "name": "stdout"
        }
      ]
    },
    {
      "cell_type": "code",
      "metadata": {
        "id": "xFBgP556H-6r"
      },
      "source": [
        "def update_data(ticker, api_key):\n",
        "    f = open('ticker_folder/' + ticker + '.csv','a')\n",
        "    with RESTClient(api_key) as client:\n",
        "        resp = client.stocks_equities_aggregates(ticker=ticker, multiplier=10, timespan='minute',\n",
        "                                                 from_='2021-02-04', to='2021-02-04', unadjusted=False,\n",
        "                                                 sort='asc', limit=50000)\n",
        "        resp = resp.results\n",
        "        for query in resp:\n",
        "            f.write(str(query['t']) + ',' + str(query['o']) + ',' + str(query['l']) + ','\n",
        "                    + str(query['h']) + ',' + str(query['v']) + ',' + str(query['c']) + '\\n')\n",
        "    f.close()\n",
        "    f = open('ticker_folder/' + ticker + '.csv', 'r')\n",
        "    df = pd.read_csv(f)\n",
        "    return df"
      ],
      "execution_count": null,
      "outputs": []
    },
    {
      "cell_type": "code",
      "metadata": {
        "colab": {
          "base_uri": "https://localhost:8080/",
          "height": 204
        },
        "id": "sKKs3PLrIGpa",
        "outputId": "1578acfb-885f-45c5-ac8b-13f2a2bba7fd"
      },
      "source": [
        "df2 = update_data(ticker, API_KEY)\n",
        "df2.tail()"
      ],
      "execution_count": null,
      "outputs": [
        {
          "output_type": "execute_result",
          "data": {
            "text/html": [
              "<div>\n",
              "<style scoped>\n",
              "    .dataframe tbody tr th:only-of-type {\n",
              "        vertical-align: middle;\n",
              "    }\n",
              "\n",
              "    .dataframe tbody tr th {\n",
              "        vertical-align: top;\n",
              "    }\n",
              "\n",
              "    .dataframe thead th {\n",
              "        text-align: right;\n",
              "    }\n",
              "</style>\n",
              "<table border=\"1\" class=\"dataframe\">\n",
              "  <thead>\n",
              "    <tr style=\"text-align: right;\">\n",
              "      <th></th>\n",
              "      <th>timestamp</th>\n",
              "      <th>open</th>\n",
              "      <th>low</th>\n",
              "      <th>high</th>\n",
              "      <th>volume</th>\n",
              "      <th>close</th>\n",
              "    </tr>\n",
              "  </thead>\n",
              "  <tbody>\n",
              "    <tr>\n",
              "      <th>3191</th>\n",
              "      <td>1612483800000</td>\n",
              "      <td>50.18</td>\n",
              "      <td>50.13</td>\n",
              "      <td>50.94</td>\n",
              "      <td>33918.0</td>\n",
              "      <td>50.13</td>\n",
              "    </tr>\n",
              "    <tr>\n",
              "      <th>3192</th>\n",
              "      <td>1612484400000</td>\n",
              "      <td>50.13</td>\n",
              "      <td>49.56</td>\n",
              "      <td>50.75</td>\n",
              "      <td>56667.0</td>\n",
              "      <td>50.51</td>\n",
              "    </tr>\n",
              "    <tr>\n",
              "      <th>3193</th>\n",
              "      <td>1612485000000</td>\n",
              "      <td>50.73</td>\n",
              "      <td>50.10</td>\n",
              "      <td>50.73</td>\n",
              "      <td>32266.0</td>\n",
              "      <td>50.10</td>\n",
              "    </tr>\n",
              "    <tr>\n",
              "      <th>3194</th>\n",
              "      <td>1612485600000</td>\n",
              "      <td>50.10</td>\n",
              "      <td>49.50</td>\n",
              "      <td>50.10</td>\n",
              "      <td>56866.0</td>\n",
              "      <td>49.60</td>\n",
              "    </tr>\n",
              "    <tr>\n",
              "      <th>3195</th>\n",
              "      <td>1612486200000</td>\n",
              "      <td>49.60</td>\n",
              "      <td>49.00</td>\n",
              "      <td>49.69</td>\n",
              "      <td>123666.0</td>\n",
              "      <td>49.17</td>\n",
              "    </tr>\n",
              "  </tbody>\n",
              "</table>\n",
              "</div>"
            ],
            "text/plain": [
              "          timestamp   open    low   high    volume  close\n",
              "3191  1612483800000  50.18  50.13  50.94   33918.0  50.13\n",
              "3192  1612484400000  50.13  49.56  50.75   56667.0  50.51\n",
              "3193  1612485000000  50.73  50.10  50.73   32266.0  50.10\n",
              "3194  1612485600000  50.10  49.50  50.10   56866.0  49.60\n",
              "3195  1612486200000  49.60  49.00  49.69  123666.0  49.17"
            ]
          },
          "metadata": {
            "tags": []
          },
          "execution_count": 28
        }
      ]
    },
    {
      "cell_type": "code",
      "metadata": {
        "colab": {
          "base_uri": "https://localhost:8080/",
          "height": 204
        },
        "id": "nP6q1VD8IPyd",
        "outputId": "f06f0835-db5d-4ef0-a3d8-b2db6c7bbbd6"
      },
      "source": [
        "df2 = df2.drop([\"timestamp\"], axis=1)\n",
        "df2.tail()"
      ],
      "execution_count": null,
      "outputs": [
        {
          "output_type": "execute_result",
          "data": {
            "text/html": [
              "<div>\n",
              "<style scoped>\n",
              "    .dataframe tbody tr th:only-of-type {\n",
              "        vertical-align: middle;\n",
              "    }\n",
              "\n",
              "    .dataframe tbody tr th {\n",
              "        vertical-align: top;\n",
              "    }\n",
              "\n",
              "    .dataframe thead th {\n",
              "        text-align: right;\n",
              "    }\n",
              "</style>\n",
              "<table border=\"1\" class=\"dataframe\">\n",
              "  <thead>\n",
              "    <tr style=\"text-align: right;\">\n",
              "      <th></th>\n",
              "      <th>open</th>\n",
              "      <th>low</th>\n",
              "      <th>high</th>\n",
              "      <th>volume</th>\n",
              "      <th>close</th>\n",
              "    </tr>\n",
              "  </thead>\n",
              "  <tbody>\n",
              "    <tr>\n",
              "      <th>3191</th>\n",
              "      <td>50.18</td>\n",
              "      <td>50.13</td>\n",
              "      <td>50.94</td>\n",
              "      <td>33918.0</td>\n",
              "      <td>50.13</td>\n",
              "    </tr>\n",
              "    <tr>\n",
              "      <th>3192</th>\n",
              "      <td>50.13</td>\n",
              "      <td>49.56</td>\n",
              "      <td>50.75</td>\n",
              "      <td>56667.0</td>\n",
              "      <td>50.51</td>\n",
              "    </tr>\n",
              "    <tr>\n",
              "      <th>3193</th>\n",
              "      <td>50.73</td>\n",
              "      <td>50.10</td>\n",
              "      <td>50.73</td>\n",
              "      <td>32266.0</td>\n",
              "      <td>50.10</td>\n",
              "    </tr>\n",
              "    <tr>\n",
              "      <th>3194</th>\n",
              "      <td>50.10</td>\n",
              "      <td>49.50</td>\n",
              "      <td>50.10</td>\n",
              "      <td>56866.0</td>\n",
              "      <td>49.60</td>\n",
              "    </tr>\n",
              "    <tr>\n",
              "      <th>3195</th>\n",
              "      <td>49.60</td>\n",
              "      <td>49.00</td>\n",
              "      <td>49.69</td>\n",
              "      <td>123666.0</td>\n",
              "      <td>49.17</td>\n",
              "    </tr>\n",
              "  </tbody>\n",
              "</table>\n",
              "</div>"
            ],
            "text/plain": [
              "       open    low   high    volume  close\n",
              "3191  50.18  50.13  50.94   33918.0  50.13\n",
              "3192  50.13  49.56  50.75   56667.0  50.51\n",
              "3193  50.73  50.10  50.73   32266.0  50.10\n",
              "3194  50.10  49.50  50.10   56866.0  49.60\n",
              "3195  49.60  49.00  49.69  123666.0  49.17"
            ]
          },
          "metadata": {
            "tags": []
          },
          "execution_count": 29
        }
      ]
    },
    {
      "cell_type": "code",
      "metadata": {
        "id": "MEqgwbR9IWks"
      },
      "source": [
        "model = keras.models.load_model('models/' + ticker)\n",
        "x_train, y_train, x_test, y_test, scaler = split_data(df2)\n",
        "predictions = model.predict(x_test)"
      ],
      "execution_count": null,
      "outputs": []
    },
    {
      "cell_type": "code",
      "metadata": {
        "id": "_D9e4FGPJdpb"
      },
      "source": [
        "scale = 1 / scaler\n",
        "predictions = predictions * scale\n",
        "y_test = y_test * scale\n",
        "\n",
        "plt.figure(figsize=(14, 5))\n",
        "plt.plot(y_test, c='r', label='Real ' + ticker + ' stock price')\n",
        "plt.plot(predictions, c='b', label='Predicted ' + ticker + ' stock price')\n",
        "plt.xlabel('time')\n",
        "plt.ylabel(ticker + ' Stock Price')\n",
        "plt.legend()\n",
        "plt.show()"
      ],
      "execution_count": null,
      "outputs": []
    },
    {
      "cell_type": "code",
      "metadata": {
        "id": "kVeXKk_qvgJc",
        "outputId": "a90f84b8-6db1-4a63-9033-7eb1e4dd5a0a",
        "colab": {
          "base_uri": "https://localhost:8080/",
          "height": 947
        }
      },
      "source": [
        "df[-90:-60]"
      ],
      "execution_count": 57,
      "outputs": [
        {
          "output_type": "execute_result",
          "data": {
            "text/html": [
              "<div>\n",
              "<style scoped>\n",
              "    .dataframe tbody tr th:only-of-type {\n",
              "        vertical-align: middle;\n",
              "    }\n",
              "\n",
              "    .dataframe tbody tr th {\n",
              "        vertical-align: top;\n",
              "    }\n",
              "\n",
              "    .dataframe thead th {\n",
              "        text-align: right;\n",
              "    }\n",
              "</style>\n",
              "<table border=\"1\" class=\"dataframe\">\n",
              "  <thead>\n",
              "    <tr style=\"text-align: right;\">\n",
              "      <th></th>\n",
              "      <th>timestamp</th>\n",
              "      <th>open</th>\n",
              "      <th>low</th>\n",
              "      <th>high</th>\n",
              "      <th>volume</th>\n",
              "      <th>close</th>\n",
              "    </tr>\n",
              "  </thead>\n",
              "  <tbody>\n",
              "    <tr>\n",
              "      <th>1710</th>\n",
              "      <td>2020-10-05 04:00:00</td>\n",
              "      <td>4.3000</td>\n",
              "      <td>4.0500</td>\n",
              "      <td>4.3600</td>\n",
              "      <td>9604945.0</td>\n",
              "      <td>4.13</td>\n",
              "    </tr>\n",
              "    <tr>\n",
              "      <th>1711</th>\n",
              "      <td>2020-10-06 04:00:00</td>\n",
              "      <td>4.2600</td>\n",
              "      <td>4.0500</td>\n",
              "      <td>4.2700</td>\n",
              "      <td>8474681.0</td>\n",
              "      <td>4.06</td>\n",
              "    </tr>\n",
              "    <tr>\n",
              "      <th>1712</th>\n",
              "      <td>2020-10-07 04:00:00</td>\n",
              "      <td>4.0800</td>\n",
              "      <td>3.9400</td>\n",
              "      <td>4.1100</td>\n",
              "      <td>6988571.0</td>\n",
              "      <td>4.04</td>\n",
              "    </tr>\n",
              "    <tr>\n",
              "      <th>1713</th>\n",
              "      <td>2020-10-08 04:00:00</td>\n",
              "      <td>4.1300</td>\n",
              "      <td>4.0200</td>\n",
              "      <td>4.1850</td>\n",
              "      <td>8018632.0</td>\n",
              "      <td>4.14</td>\n",
              "    </tr>\n",
              "    <tr>\n",
              "      <th>1714</th>\n",
              "      <td>2020-10-09 04:00:00</td>\n",
              "      <td>4.1700</td>\n",
              "      <td>4.0400</td>\n",
              "      <td>4.1800</td>\n",
              "      <td>5107596.0</td>\n",
              "      <td>4.05</td>\n",
              "    </tr>\n",
              "    <tr>\n",
              "      <th>1715</th>\n",
              "      <td>2020-10-12 04:00:00</td>\n",
              "      <td>4.0300</td>\n",
              "      <td>4.0000</td>\n",
              "      <td>4.0900</td>\n",
              "      <td>3312043.0</td>\n",
              "      <td>4.08</td>\n",
              "    </tr>\n",
              "    <tr>\n",
              "      <th>1716</th>\n",
              "      <td>2020-10-13 04:00:00</td>\n",
              "      <td>3.9000</td>\n",
              "      <td>3.5200</td>\n",
              "      <td>3.9100</td>\n",
              "      <td>10342266.0</td>\n",
              "      <td>3.54</td>\n",
              "    </tr>\n",
              "    <tr>\n",
              "      <th>1717</th>\n",
              "      <td>2020-10-14 04:00:00</td>\n",
              "      <td>3.0900</td>\n",
              "      <td>2.6600</td>\n",
              "      <td>3.2000</td>\n",
              "      <td>32142195.0</td>\n",
              "      <td>2.96</td>\n",
              "    </tr>\n",
              "    <tr>\n",
              "      <th>1718</th>\n",
              "      <td>2020-10-15 04:00:00</td>\n",
              "      <td>2.8400</td>\n",
              "      <td>2.7600</td>\n",
              "      <td>2.9600</td>\n",
              "      <td>9949311.0</td>\n",
              "      <td>2.78</td>\n",
              "    </tr>\n",
              "    <tr>\n",
              "      <th>1719</th>\n",
              "      <td>2020-10-16 04:00:00</td>\n",
              "      <td>2.8700</td>\n",
              "      <td>2.8000</td>\n",
              "      <td>3.2900</td>\n",
              "      <td>18665138.0</td>\n",
              "      <td>3.04</td>\n",
              "    </tr>\n",
              "    <tr>\n",
              "      <th>1720</th>\n",
              "      <td>2020-10-19 04:00:00</td>\n",
              "      <td>3.3100</td>\n",
              "      <td>3.2300</td>\n",
              "      <td>3.8800</td>\n",
              "      <td>40624330.0</td>\n",
              "      <td>3.54</td>\n",
              "    </tr>\n",
              "    <tr>\n",
              "      <th>1721</th>\n",
              "      <td>2020-10-20 04:00:00</td>\n",
              "      <td>3.3000</td>\n",
              "      <td>3.0500</td>\n",
              "      <td>3.3100</td>\n",
              "      <td>16321328.0</td>\n",
              "      <td>3.09</td>\n",
              "    </tr>\n",
              "    <tr>\n",
              "      <th>1722</th>\n",
              "      <td>2020-10-21 04:00:00</td>\n",
              "      <td>3.1000</td>\n",
              "      <td>2.9800</td>\n",
              "      <td>3.1299</td>\n",
              "      <td>7369173.0</td>\n",
              "      <td>3.00</td>\n",
              "    </tr>\n",
              "    <tr>\n",
              "      <th>1723</th>\n",
              "      <td>2020-10-22 04:00:00</td>\n",
              "      <td>2.9600</td>\n",
              "      <td>2.8400</td>\n",
              "      <td>3.1500</td>\n",
              "      <td>12446742.0</td>\n",
              "      <td>3.12</td>\n",
              "    </tr>\n",
              "    <tr>\n",
              "      <th>1724</th>\n",
              "      <td>2020-10-23 04:00:00</td>\n",
              "      <td>3.1300</td>\n",
              "      <td>2.9500</td>\n",
              "      <td>3.1500</td>\n",
              "      <td>6727066.0</td>\n",
              "      <td>2.97</td>\n",
              "    </tr>\n",
              "    <tr>\n",
              "      <th>1725</th>\n",
              "      <td>2020-10-26 04:00:00</td>\n",
              "      <td>2.9200</td>\n",
              "      <td>2.6800</td>\n",
              "      <td>2.9300</td>\n",
              "      <td>10635508.0</td>\n",
              "      <td>2.75</td>\n",
              "    </tr>\n",
              "    <tr>\n",
              "      <th>1726</th>\n",
              "      <td>2020-10-27 04:00:00</td>\n",
              "      <td>2.8800</td>\n",
              "      <td>2.6100</td>\n",
              "      <td>2.9000</td>\n",
              "      <td>11386067.0</td>\n",
              "      <td>2.79</td>\n",
              "    </tr>\n",
              "    <tr>\n",
              "      <th>1727</th>\n",
              "      <td>2020-10-28 04:00:00</td>\n",
              "      <td>2.6900</td>\n",
              "      <td>2.5800</td>\n",
              "      <td>2.7400</td>\n",
              "      <td>8243389.0</td>\n",
              "      <td>2.61</td>\n",
              "    </tr>\n",
              "    <tr>\n",
              "      <th>1728</th>\n",
              "      <td>2020-10-29 04:00:00</td>\n",
              "      <td>2.6500</td>\n",
              "      <td>2.4800</td>\n",
              "      <td>2.6800</td>\n",
              "      <td>9119371.0</td>\n",
              "      <td>2.52</td>\n",
              "    </tr>\n",
              "    <tr>\n",
              "      <th>1729</th>\n",
              "      <td>2020-10-30 04:00:00</td>\n",
              "      <td>2.4800</td>\n",
              "      <td>2.2800</td>\n",
              "      <td>2.4900</td>\n",
              "      <td>11172934.0</td>\n",
              "      <td>2.36</td>\n",
              "    </tr>\n",
              "    <tr>\n",
              "      <th>1730</th>\n",
              "      <td>2020-11-02 05:00:00</td>\n",
              "      <td>2.3000</td>\n",
              "      <td>2.1100</td>\n",
              "      <td>2.3200</td>\n",
              "      <td>11279699.0</td>\n",
              "      <td>2.15</td>\n",
              "    </tr>\n",
              "    <tr>\n",
              "      <th>1731</th>\n",
              "      <td>2020-11-03 05:00:00</td>\n",
              "      <td>2.3400</td>\n",
              "      <td>2.3000</td>\n",
              "      <td>2.5900</td>\n",
              "      <td>15657299.0</td>\n",
              "      <td>2.34</td>\n",
              "    </tr>\n",
              "    <tr>\n",
              "      <th>1732</th>\n",
              "      <td>2020-11-04 05:00:00</td>\n",
              "      <td>2.4000</td>\n",
              "      <td>2.2401</td>\n",
              "      <td>2.4299</td>\n",
              "      <td>7768940.0</td>\n",
              "      <td>2.31</td>\n",
              "    </tr>\n",
              "    <tr>\n",
              "      <th>1733</th>\n",
              "      <td>2020-11-05 05:00:00</td>\n",
              "      <td>2.3500</td>\n",
              "      <td>2.2700</td>\n",
              "      <td>2.5700</td>\n",
              "      <td>8144933.0</td>\n",
              "      <td>2.46</td>\n",
              "    </tr>\n",
              "    <tr>\n",
              "      <th>1734</th>\n",
              "      <td>2020-11-06 05:00:00</td>\n",
              "      <td>2.4300</td>\n",
              "      <td>2.3300</td>\n",
              "      <td>2.6200</td>\n",
              "      <td>9155493.0</td>\n",
              "      <td>2.49</td>\n",
              "    </tr>\n",
              "    <tr>\n",
              "      <th>1735</th>\n",
              "      <td>2020-11-09 05:00:00</td>\n",
              "      <td>4.2700</td>\n",
              "      <td>3.2300</td>\n",
              "      <td>4.3900</td>\n",
              "      <td>134749470.0</td>\n",
              "      <td>3.77</td>\n",
              "    </tr>\n",
              "    <tr>\n",
              "      <th>1736</th>\n",
              "      <td>2020-11-10 05:00:00</td>\n",
              "      <td>3.9900</td>\n",
              "      <td>3.3400</td>\n",
              "      <td>4.0300</td>\n",
              "      <td>43132265.0</td>\n",
              "      <td>3.51</td>\n",
              "    </tr>\n",
              "    <tr>\n",
              "      <th>1737</th>\n",
              "      <td>2020-11-11 05:00:00</td>\n",
              "      <td>3.2308</td>\n",
              "      <td>3.0000</td>\n",
              "      <td>3.2400</td>\n",
              "      <td>24512617.0</td>\n",
              "      <td>3.13</td>\n",
              "    </tr>\n",
              "    <tr>\n",
              "      <th>1738</th>\n",
              "      <td>2020-11-12 05:00:00</td>\n",
              "      <td>3.0700</td>\n",
              "      <td>2.9200</td>\n",
              "      <td>3.0700</td>\n",
              "      <td>15140421.0</td>\n",
              "      <td>2.94</td>\n",
              "    </tr>\n",
              "    <tr>\n",
              "      <th>1739</th>\n",
              "      <td>2020-11-13 05:00:00</td>\n",
              "      <td>2.9800</td>\n",
              "      <td>2.7800</td>\n",
              "      <td>2.9900</td>\n",
              "      <td>22655608.0</td>\n",
              "      <td>2.97</td>\n",
              "    </tr>\n",
              "  </tbody>\n",
              "</table>\n",
              "</div>"
            ],
            "text/plain": [
              "               timestamp    open     low    high       volume  close\n",
              "1710 2020-10-05 04:00:00  4.3000  4.0500  4.3600    9604945.0   4.13\n",
              "1711 2020-10-06 04:00:00  4.2600  4.0500  4.2700    8474681.0   4.06\n",
              "1712 2020-10-07 04:00:00  4.0800  3.9400  4.1100    6988571.0   4.04\n",
              "1713 2020-10-08 04:00:00  4.1300  4.0200  4.1850    8018632.0   4.14\n",
              "1714 2020-10-09 04:00:00  4.1700  4.0400  4.1800    5107596.0   4.05\n",
              "1715 2020-10-12 04:00:00  4.0300  4.0000  4.0900    3312043.0   4.08\n",
              "1716 2020-10-13 04:00:00  3.9000  3.5200  3.9100   10342266.0   3.54\n",
              "1717 2020-10-14 04:00:00  3.0900  2.6600  3.2000   32142195.0   2.96\n",
              "1718 2020-10-15 04:00:00  2.8400  2.7600  2.9600    9949311.0   2.78\n",
              "1719 2020-10-16 04:00:00  2.8700  2.8000  3.2900   18665138.0   3.04\n",
              "1720 2020-10-19 04:00:00  3.3100  3.2300  3.8800   40624330.0   3.54\n",
              "1721 2020-10-20 04:00:00  3.3000  3.0500  3.3100   16321328.0   3.09\n",
              "1722 2020-10-21 04:00:00  3.1000  2.9800  3.1299    7369173.0   3.00\n",
              "1723 2020-10-22 04:00:00  2.9600  2.8400  3.1500   12446742.0   3.12\n",
              "1724 2020-10-23 04:00:00  3.1300  2.9500  3.1500    6727066.0   2.97\n",
              "1725 2020-10-26 04:00:00  2.9200  2.6800  2.9300   10635508.0   2.75\n",
              "1726 2020-10-27 04:00:00  2.8800  2.6100  2.9000   11386067.0   2.79\n",
              "1727 2020-10-28 04:00:00  2.6900  2.5800  2.7400    8243389.0   2.61\n",
              "1728 2020-10-29 04:00:00  2.6500  2.4800  2.6800    9119371.0   2.52\n",
              "1729 2020-10-30 04:00:00  2.4800  2.2800  2.4900   11172934.0   2.36\n",
              "1730 2020-11-02 05:00:00  2.3000  2.1100  2.3200   11279699.0   2.15\n",
              "1731 2020-11-03 05:00:00  2.3400  2.3000  2.5900   15657299.0   2.34\n",
              "1732 2020-11-04 05:00:00  2.4000  2.2401  2.4299    7768940.0   2.31\n",
              "1733 2020-11-05 05:00:00  2.3500  2.2700  2.5700    8144933.0   2.46\n",
              "1734 2020-11-06 05:00:00  2.4300  2.3300  2.6200    9155493.0   2.49\n",
              "1735 2020-11-09 05:00:00  4.2700  3.2300  4.3900  134749470.0   3.77\n",
              "1736 2020-11-10 05:00:00  3.9900  3.3400  4.0300   43132265.0   3.51\n",
              "1737 2020-11-11 05:00:00  3.2308  3.0000  3.2400   24512617.0   3.13\n",
              "1738 2020-11-12 05:00:00  3.0700  2.9200  3.0700   15140421.0   2.94\n",
              "1739 2020-11-13 05:00:00  2.9800  2.7800  2.9900   22655608.0   2.97"
            ]
          },
          "metadata": {
            "tags": []
          },
          "execution_count": 57
        }
      ]
    },
    {
      "cell_type": "code",
      "metadata": {
        "id": "6DX_cQ0fJ5Yc"
      },
      "source": [
        "def get_minute_data(ticker, api_key, last_minutes):  # gets minute by minute data for last (last_minutes) minutes\n",
        "    f = open('recent_ticker_data/' + ticker + '.csv', 'w')\n",
        "    with RESTClient(api_key) as client:\n",
        "        resp = client.stocks_equities_aggregates(ticker=ticker, multiplier=1, timespan='minute',\n",
        "                                                 from_='1999-07-12', to='2021-02-04', unadjusted=False,\n",
        "                                                 sort='desc', limit=last_minutes)\n",
        "        resp = resp.results\n",
        "        f.write('timestamp,open,low,high,volume,close\\n')\n",
        "        for query in resp:\n",
        "            f.write(str(query['t']) + ',' + str(query['o']) + ',' + str(query['l']) + ',' + str(query['h']) + ',' + str(query['v']) + ',' + str(query['c']) + '\\n')\n",
        "        f.close()\n",
        "    f = open('recent_ticker_data/' + ticker + '.csv', 'r')\n",
        "    df = pd.read_csv(f)\n",
        "    return df"
      ],
      "execution_count": null,
      "outputs": []
    },
    {
      "cell_type": "code",
      "metadata": {
        "colab": {
          "base_uri": "https://localhost:8080/",
          "height": 204
        },
        "id": "1HgY5CJSJ8Kx",
        "outputId": "261cb845-9520-450a-cbba-d6adcb019c7e"
      },
      "source": [
        "df = get_minute_data('GME', API_KEY, 60)\n",
        "df.head()"
      ],
      "execution_count": null,
      "outputs": [
        {
          "output_type": "execute_result",
          "data": {
            "text/html": [
              "<div>\n",
              "<style scoped>\n",
              "    .dataframe tbody tr th:only-of-type {\n",
              "        vertical-align: middle;\n",
              "    }\n",
              "\n",
              "    .dataframe tbody tr th {\n",
              "        vertical-align: top;\n",
              "    }\n",
              "\n",
              "    .dataframe thead th {\n",
              "        text-align: right;\n",
              "    }\n",
              "</style>\n",
              "<table border=\"1\" class=\"dataframe\">\n",
              "  <thead>\n",
              "    <tr style=\"text-align: right;\">\n",
              "      <th></th>\n",
              "      <th>timestamp</th>\n",
              "      <th>open</th>\n",
              "      <th>low</th>\n",
              "      <th>high</th>\n",
              "      <th>volume</th>\n",
              "      <th>close</th>\n",
              "    </tr>\n",
              "  </thead>\n",
              "  <tbody>\n",
              "    <tr>\n",
              "      <th>0</th>\n",
              "      <td>1612486740000</td>\n",
              "      <td>49.00</td>\n",
              "      <td>49.00</td>\n",
              "      <td>49.48</td>\n",
              "      <td>29415</td>\n",
              "      <td>49.17</td>\n",
              "    </tr>\n",
              "    <tr>\n",
              "      <th>1</th>\n",
              "      <td>1612486680000</td>\n",
              "      <td>49.02</td>\n",
              "      <td>49.00</td>\n",
              "      <td>49.10</td>\n",
              "      <td>22745</td>\n",
              "      <td>49.01</td>\n",
              "    </tr>\n",
              "    <tr>\n",
              "      <th>2</th>\n",
              "      <td>1612486620000</td>\n",
              "      <td>49.25</td>\n",
              "      <td>49.01</td>\n",
              "      <td>49.25</td>\n",
              "      <td>21123</td>\n",
              "      <td>49.02</td>\n",
              "    </tr>\n",
              "    <tr>\n",
              "      <th>3</th>\n",
              "      <td>1612486560000</td>\n",
              "      <td>49.40</td>\n",
              "      <td>49.20</td>\n",
              "      <td>49.40</td>\n",
              "      <td>13707</td>\n",
              "      <td>49.20</td>\n",
              "    </tr>\n",
              "    <tr>\n",
              "      <th>4</th>\n",
              "      <td>1612486500000</td>\n",
              "      <td>49.41</td>\n",
              "      <td>49.40</td>\n",
              "      <td>49.56</td>\n",
              "      <td>10718</td>\n",
              "      <td>49.41</td>\n",
              "    </tr>\n",
              "  </tbody>\n",
              "</table>\n",
              "</div>"
            ],
            "text/plain": [
              "       timestamp   open    low   high  volume  close\n",
              "0  1612486740000  49.00  49.00  49.48   29415  49.17\n",
              "1  1612486680000  49.02  49.00  49.10   22745  49.01\n",
              "2  1612486620000  49.25  49.01  49.25   21123  49.02\n",
              "3  1612486560000  49.40  49.20  49.40   13707  49.20\n",
              "4  1612486500000  49.41  49.40  49.56   10718  49.41"
            ]
          },
          "metadata": {
            "tags": []
          },
          "execution_count": 34
        }
      ]
    },
    {
      "cell_type": "code",
      "metadata": {
        "id": "XghmIiKyKBan"
      },
      "source": [
        "def get_all_news(ticker, api_key):  # function works on pycharm, however google colab cannot open the csv file\n",
        "    f = open(ticker + '_news.csv', 'w')\n",
        "    f.write('date,title\\n')\n",
        "    with RESTClient(api_key) as client:\n",
        "        for j in range(25):\n",
        "            resp = client.reference_ticker_news(symbol=ticker, perpage=50, page=j)\n",
        "            for i in range(50):\n",
        "                f.write(resp.news[i].timestamp + ',' + resp.news[i].title + '\\n')\n",
        "    f.close()"
      ],
      "execution_count": null,
      "outputs": []
    },
    {
      "cell_type": "code",
      "metadata": {
        "id": "Bkqa_8jKKERM"
      },
      "source": [
        "def get_polarity(headline):\n",
        "    analysis = TextBlob(headline)\n",
        "    return analysis.polarity"
      ],
      "execution_count": null,
      "outputs": []
    },
    {
      "cell_type": "code",
      "metadata": {
        "colab": {
          "base_uri": "https://localhost:8080/"
        },
        "id": "scYq6bV0KGfW",
        "outputId": "90249ce6-16a7-4611-9789-70721de51ead"
      },
      "source": [
        "polarity = get_polarity('GME is a good stock to buy')\n",
        "print('polarity: ' + str(polarity))"
      ],
      "execution_count": null,
      "outputs": [
        {
          "output_type": "stream",
          "text": [
            "polarity: 0.7\n"
          ],
          "name": "stdout"
        }
      ]
    }
  ]
}